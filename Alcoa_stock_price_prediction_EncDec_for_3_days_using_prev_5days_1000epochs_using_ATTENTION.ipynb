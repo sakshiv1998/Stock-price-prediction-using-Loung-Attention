{
  "nbformat": 4,
  "nbformat_minor": 0,
  "metadata": {
    "kernelspec": {
      "display_name": "Python 3",
      "language": "python",
      "name": "python3"
    },
    "language_info": {
      "codemirror_mode": {
        "name": "ipython",
        "version": 3
      },
      "file_extension": ".py",
      "mimetype": "text/x-python",
      "name": "python",
      "nbconvert_exporter": "python",
      "pygments_lexer": "ipython3",
      "version": "3.8.3"
    },
    "colab": {
      "name": "Alcoa_stock_price_prediction_EncDec_for_3_days_using_prev_5days_1000epochs_using_ATTENTION.ipynb",
      "provenance": [],
      "collapsed_sections": [],
      "toc_visible": true
    },
    "accelerator": "GPU"
  },
  "cells": [
    {
      "cell_type": "markdown",
      "metadata": {
        "id": "laKP5ru_vtxh"
      },
      "source": [
        "Project: stock price prediction of Alcoa Corp. stocks for next 3 days on the basis of previous 5 days data."
      ]
    },
    {
      "cell_type": "code",
      "metadata": {
        "id": "nqJSSIi1vzrX"
      },
      "source": [
        "!pip install -U -q PyDrive\r\n",
        "from pydrive.auth import GoogleAuth\r\n",
        "from pydrive.drive import GoogleDrive\r\n",
        "from google.colab import auth\r\n",
        "from oauth2client.client import GoogleCredentials"
      ],
      "execution_count": null,
      "outputs": []
    },
    {
      "cell_type": "code",
      "metadata": {
        "id": "_4P1pIzBvz9V"
      },
      "source": [
        "auth.authenticate_user()\r\n",
        "gauth = GoogleAuth()\r\n",
        "gauth.credentials = GoogleCredentials.get_application_default()\r\n",
        "drive = GoogleDrive(gauth)"
      ],
      "execution_count": null,
      "outputs": []
    },
    {
      "cell_type": "code",
      "metadata": {
        "id": "fGRld--nv0Fb"
      },
      "source": [
        "downloaded = drive.CreateFile({'id':'12GHNcSIeLoEGe-WLk37p6YDfI0om4GjH'}) \r\n",
        "downloaded.GetContentFile('aa.csv')"
      ],
      "execution_count": null,
      "outputs": []
    },
    {
      "cell_type": "markdown",
      "metadata": {
        "id": "1tq0wxA4vtxp"
      },
      "source": [
        "### Importing neccessary packages"
      ]
    },
    {
      "cell_type": "code",
      "metadata": {
        "id": "gJIHQCTEvtxq"
      },
      "source": [
        "import numpy as np\n",
        "#from __future__ import print_function\n",
        "import pandas as pd\n",
        "import matplotlib.pyplot as plt\n",
        "%matplotlib inline\n",
        "import sys\n",
        "\n",
        "import tensorflow as tf\n",
        "\n",
        "import matplotlib.pyplot as plt\n",
        "import seaborn as sns\n",
        "\n",
        "from sklearn.preprocessing import MinMaxScaler\n",
        "from datetime import datetime\n",
        "from datetime import timedelta\n",
        "from tqdm import tqdm\n",
        "sns.set()\n",
        "\n",
        "from sklearn import model_selection\n",
        "from sklearn.metrics import confusion_matrix\n",
        "from sklearn.preprocessing import StandardScaler\n",
        "from sklearn.model_selection import train_test_split\n",
        "import numpy as np\n",
        "import pandas as pd\n",
        "from sklearn.preprocessing import MinMaxScaler"
      ],
      "execution_count": null,
      "outputs": []
    },
    {
      "cell_type": "code",
      "metadata": {
        "id": "Z4MXUFKsvtxr"
      },
      "source": [
        "from sklearn.metrics import mean_squared_error , r2_score\n",
        "import math"
      ],
      "execution_count": null,
      "outputs": []
    },
    {
      "cell_type": "code",
      "metadata": {
        "id": "oJ-x-4c5dwjb"
      },
      "source": [
        "import random\r\n",
        "\r\n",
        "import pickle as pkl\r\n",
        "import keras\r\n",
        "from keras.models import Sequential, Model, load_model\r\n",
        "from keras.layers import LSTM, Dense, RepeatVector, TimeDistributed, Input, BatchNormalization, \\\r\n",
        "    multiply, concatenate, Flatten, Activation, dot\r\n",
        "from keras.optimizers import Adam\r\n",
        "from keras.utils import plot_model\r\n",
        "from keras.callbacks import EarlyStopping\r\n",
        "import pydot as pyd\r\n",
        "from keras.utils.vis_utils import plot_model, model_to_dot\r\n",
        "keras.utils.vis_utils.pydot = pyd"
      ],
      "execution_count": null,
      "outputs": []
    },
    {
      "cell_type": "markdown",
      "metadata": {
        "id": "jCsMLQFyvtxr"
      },
      "source": [
        "### Loading the data"
      ]
    },
    {
      "cell_type": "code",
      "metadata": {
        "id": "kGUBcfhXwWZ4"
      },
      "source": [
        "stk_data= pd.read_csv('aa.csv')"
      ],
      "execution_count": null,
      "outputs": []
    },
    {
      "cell_type": "code",
      "metadata": {
        "id": "b4zaRyf0vtxv",
        "colab": {
          "base_uri": "https://localhost:8080/"
        },
        "outputId": "958ccb87-e97e-4753-d0c7-fa538a2675d6"
      },
      "source": [
        "stk_data.shape\n"
      ],
      "execution_count": null,
      "outputs": [
        {
          "output_type": "execute_result",
          "data": {
            "text/plain": [
              "(4997, 6)"
            ]
          },
          "metadata": {
            "tags": []
          },
          "execution_count": 8
        }
      ]
    },
    {
      "cell_type": "code",
      "metadata": {
        "id": "9C75OH1xvtxv",
        "colab": {
          "base_uri": "https://localhost:8080/",
          "height": 419
        },
        "outputId": "6292f794-22b9-49cf-f211-7e93aee94b8d"
      },
      "source": [
        "stk_data"
      ],
      "execution_count": null,
      "outputs": [
        {
          "output_type": "execute_result",
          "data": {
            "text/html": [
              "<div>\n",
              "<style scoped>\n",
              "    .dataframe tbody tr th:only-of-type {\n",
              "        vertical-align: middle;\n",
              "    }\n",
              "\n",
              "    .dataframe tbody tr th {\n",
              "        vertical-align: top;\n",
              "    }\n",
              "\n",
              "    .dataframe thead th {\n",
              "        text-align: right;\n",
              "    }\n",
              "</style>\n",
              "<table border=\"1\" class=\"dataframe\">\n",
              "  <thead>\n",
              "    <tr style=\"text-align: right;\">\n",
              "      <th></th>\n",
              "      <th>Date</th>\n",
              "      <th>Open</th>\n",
              "      <th>High</th>\n",
              "      <th>Low</th>\n",
              "      <th>Close</th>\n",
              "      <th>Volume</th>\n",
              "    </tr>\n",
              "  </thead>\n",
              "  <tbody>\n",
              "    <tr>\n",
              "      <th>0</th>\n",
              "      <td>1998-01-02</td>\n",
              "      <td>35.451</td>\n",
              "      <td>35.5730</td>\n",
              "      <td>35.098</td>\n",
              "      <td>35.392</td>\n",
              "      <td>1007509</td>\n",
              "    </tr>\n",
              "    <tr>\n",
              "      <th>1</th>\n",
              "      <td>1998-01-05</td>\n",
              "      <td>35.744</td>\n",
              "      <td>36.3070</td>\n",
              "      <td>35.702</td>\n",
              "      <td>36.000</td>\n",
              "      <td>2007164</td>\n",
              "    </tr>\n",
              "    <tr>\n",
              "      <th>2</th>\n",
              "      <td>1998-01-06</td>\n",
              "      <td>35.809</td>\n",
              "      <td>35.8090</td>\n",
              "      <td>35.159</td>\n",
              "      <td>35.202</td>\n",
              "      <td>1466149</td>\n",
              "    </tr>\n",
              "    <tr>\n",
              "      <th>3</th>\n",
              "      <td>1998-01-07</td>\n",
              "      <td>34.554</td>\n",
              "      <td>35.2670</td>\n",
              "      <td>34.554</td>\n",
              "      <td>35.267</td>\n",
              "      <td>1312312</td>\n",
              "    </tr>\n",
              "    <tr>\n",
              "      <th>4</th>\n",
              "      <td>1998-01-08</td>\n",
              "      <td>35.267</td>\n",
              "      <td>35.5130</td>\n",
              "      <td>33.700</td>\n",
              "      <td>33.764</td>\n",
              "      <td>941225</td>\n",
              "    </tr>\n",
              "    <tr>\n",
              "      <th>...</th>\n",
              "      <td>...</td>\n",
              "      <td>...</td>\n",
              "      <td>...</td>\n",
              "      <td>...</td>\n",
              "      <td>...</td>\n",
              "      <td>...</td>\n",
              "    </tr>\n",
              "    <tr>\n",
              "      <th>4992</th>\n",
              "      <td>2017-11-06</td>\n",
              "      <td>47.200</td>\n",
              "      <td>47.6800</td>\n",
              "      <td>46.530</td>\n",
              "      <td>47.290</td>\n",
              "      <td>1725638</td>\n",
              "    </tr>\n",
              "    <tr>\n",
              "      <th>4993</th>\n",
              "      <td>2017-11-07</td>\n",
              "      <td>47.110</td>\n",
              "      <td>47.2042</td>\n",
              "      <td>46.540</td>\n",
              "      <td>46.970</td>\n",
              "      <td>2168351</td>\n",
              "    </tr>\n",
              "    <tr>\n",
              "      <th>4994</th>\n",
              "      <td>2017-11-08</td>\n",
              "      <td>46.730</td>\n",
              "      <td>46.7700</td>\n",
              "      <td>45.370</td>\n",
              "      <td>45.890</td>\n",
              "      <td>3347930</td>\n",
              "    </tr>\n",
              "    <tr>\n",
              "      <th>4995</th>\n",
              "      <td>2017-11-09</td>\n",
              "      <td>44.710</td>\n",
              "      <td>44.7100</td>\n",
              "      <td>43.110</td>\n",
              "      <td>43.330</td>\n",
              "      <td>7671810</td>\n",
              "    </tr>\n",
              "    <tr>\n",
              "      <th>4996</th>\n",
              "      <td>2017-11-10</td>\n",
              "      <td>42.930</td>\n",
              "      <td>44.4600</td>\n",
              "      <td>42.750</td>\n",
              "      <td>43.010</td>\n",
              "      <td>4463839</td>\n",
              "    </tr>\n",
              "  </tbody>\n",
              "</table>\n",
              "<p>4997 rows × 6 columns</p>\n",
              "</div>"
            ],
            "text/plain": [
              "            Date    Open     High     Low   Close   Volume\n",
              "0     1998-01-02  35.451  35.5730  35.098  35.392  1007509\n",
              "1     1998-01-05  35.744  36.3070  35.702  36.000  2007164\n",
              "2     1998-01-06  35.809  35.8090  35.159  35.202  1466149\n",
              "3     1998-01-07  34.554  35.2670  34.554  35.267  1312312\n",
              "4     1998-01-08  35.267  35.5130  33.700  33.764   941225\n",
              "...          ...     ...      ...     ...     ...      ...\n",
              "4992  2017-11-06  47.200  47.6800  46.530  47.290  1725638\n",
              "4993  2017-11-07  47.110  47.2042  46.540  46.970  2168351\n",
              "4994  2017-11-08  46.730  46.7700  45.370  45.890  3347930\n",
              "4995  2017-11-09  44.710  44.7100  43.110  43.330  7671810\n",
              "4996  2017-11-10  42.930  44.4600  42.750  43.010  4463839\n",
              "\n",
              "[4997 rows x 6 columns]"
            ]
          },
          "metadata": {
            "tags": []
          },
          "execution_count": 9
        }
      ]
    },
    {
      "cell_type": "code",
      "metadata": {
        "id": "Ths47JRrvtxv",
        "colab": {
          "base_uri": "https://localhost:8080/",
          "height": 627
        },
        "outputId": "a0b8d171-0cb2-4e89-9dcb-4ad70ee2bc64"
      },
      "source": [
        "# The profit or loss calculation is usually determined by the closing price of a stock for the day,\n",
        "# hence we will consider the closing price as the target variable\n",
        "plt.figure(figsize=(15,10))\n",
        "plt.plot(stk_data['Close'])\n",
        "plt.title('Historical Stock Value')\n",
        "plt.xlabel('Date')\n",
        "plt.ylabel('Stock Price')\n",
        "plt.show()\n"
      ],
      "execution_count": null,
      "outputs": [
        {
          "output_type": "display_data",
          "data": {
            "image/png": "[encoded data removed]",
            "text/plain": [
              "<Figure size 1080x720 with 1 Axes>"
            ]
          },
          "metadata": {
            "tags": []
          }
        }
      ]
    },
    {
      "cell_type": "markdown",
      "metadata": {
        "id": "vIJqvF5X4TYR"
      },
      "source": [
        "**Checking for NULL values in the dataset**"
      ]
    },
    {
      "cell_type": "code",
      "metadata": {
        "id": "quBZS0v84Oha",
        "colab": {
          "base_uri": "https://localhost:8080/"
        },
        "outputId": "b1faa51f-2b62-451e-8714-7ed560a11d22"
      },
      "source": [
        "stk_data.isnull().sum().sum()"
      ],
      "execution_count": null,
      "outputs": [
        {
          "output_type": "execute_result",
          "data": {
            "text/plain": [
              "0"
            ]
          },
          "metadata": {
            "tags": []
          },
          "execution_count": 11
        }
      ]
    },
    {
      "cell_type": "markdown",
      "metadata": {
        "id": "RVnGEzPUvtxw"
      },
      "source": [
        "### Normalizing the dataset"
      ]
    },
    {
      "cell_type": "code",
      "metadata": {
        "id": "Ddg3Rfekvtxw"
      },
      "source": [
        "scaler=MinMaxScaler(feature_range=(1,10))"
      ],
      "execution_count": null,
      "outputs": []
    },
    {
      "cell_type": "code",
      "metadata": {
        "id": "bp7fQIe1vtxw",
        "colab": {
          "base_uri": "https://localhost:8080/",
          "height": 419
        },
        "outputId": "90a252c5-ea59-4f9f-8411-a634fa75c07b"
      },
      "source": [
        "df_temp=stk_data[['Open','High','Low','Close','Volume']]\n",
        "df_temp"
      ],
      "execution_count": null,
      "outputs": [
        {
          "output_type": "execute_result",
          "data": {
            "text/html": [
              "<div>\n",
              "<style scoped>\n",
              "    .dataframe tbody tr th:only-of-type {\n",
              "        vertical-align: middle;\n",
              "    }\n",
              "\n",
              "    .dataframe tbody tr th {\n",
              "        vertical-align: top;\n",
              "    }\n",
              "\n",
              "    .dataframe thead th {\n",
              "        text-align: right;\n",
              "    }\n",
              "</style>\n",
              "<table border=\"1\" class=\"dataframe\">\n",
              "  <thead>\n",
              "    <tr style=\"text-align: right;\">\n",
              "      <th></th>\n",
              "      <th>Open</th>\n",
              "      <th>High</th>\n",
              "      <th>Low</th>\n",
              "      <th>Close</th>\n",
              "      <th>Volume</th>\n",
              "    </tr>\n",
              "  </thead>\n",
              "  <tbody>\n",
              "    <tr>\n",
              "      <th>0</th>\n",
              "      <td>35.451</td>\n",
              "      <td>35.5730</td>\n",
              "      <td>35.098</td>\n",
              "      <td>35.392</td>\n",
              "      <td>1007509</td>\n",
              "    </tr>\n",
              "    <tr>\n",
              "      <th>1</th>\n",
              "      <td>35.744</td>\n",
              "      <td>36.3070</td>\n",
              "      <td>35.702</td>\n",
              "      <td>36.000</td>\n",
              "      <td>2007164</td>\n",
              "    </tr>\n",
              "    <tr>\n",
              "      <th>2</th>\n",
              "      <td>35.809</td>\n",
              "      <td>35.8090</td>\n",
              "      <td>35.159</td>\n",
              "      <td>35.202</td>\n",
              "      <td>1466149</td>\n",
              "    </tr>\n",
              "    <tr>\n",
              "      <th>3</th>\n",
              "      <td>34.554</td>\n",
              "      <td>35.2670</td>\n",
              "      <td>34.554</td>\n",
              "      <td>35.267</td>\n",
              "      <td>1312312</td>\n",
              "    </tr>\n",
              "    <tr>\n",
              "      <th>4</th>\n",
              "      <td>35.267</td>\n",
              "      <td>35.5130</td>\n",
              "      <td>33.700</td>\n",
              "      <td>33.764</td>\n",
              "      <td>941225</td>\n",
              "    </tr>\n",
              "    <tr>\n",
              "      <th>...</th>\n",
              "      <td>...</td>\n",
              "      <td>...</td>\n",
              "      <td>...</td>\n",
              "      <td>...</td>\n",
              "      <td>...</td>\n",
              "    </tr>\n",
              "    <tr>\n",
              "      <th>4992</th>\n",
              "      <td>47.200</td>\n",
              "      <td>47.6800</td>\n",
              "      <td>46.530</td>\n",
              "      <td>47.290</td>\n",
              "      <td>1725638</td>\n",
              "    </tr>\n",
              "    <tr>\n",
              "      <th>4993</th>\n",
              "      <td>47.110</td>\n",
              "      <td>47.2042</td>\n",
              "      <td>46.540</td>\n",
              "      <td>46.970</td>\n",
              "      <td>2168351</td>\n",
              "    </tr>\n",
              "    <tr>\n",
              "      <th>4994</th>\n",
              "      <td>46.730</td>\n",
              "      <td>46.7700</td>\n",
              "      <td>45.370</td>\n",
              "      <td>45.890</td>\n",
              "      <td>3347930</td>\n",
              "    </tr>\n",
              "    <tr>\n",
              "      <th>4995</th>\n",
              "      <td>44.710</td>\n",
              "      <td>44.7100</td>\n",
              "      <td>43.110</td>\n",
              "      <td>43.330</td>\n",
              "      <td>7671810</td>\n",
              "    </tr>\n",
              "    <tr>\n",
              "      <th>4996</th>\n",
              "      <td>42.930</td>\n",
              "      <td>44.4600</td>\n",
              "      <td>42.750</td>\n",
              "      <td>43.010</td>\n",
              "      <td>4463839</td>\n",
              "    </tr>\n",
              "  </tbody>\n",
              "</table>\n",
              "<p>4997 rows × 5 columns</p>\n",
              "</div>"
            ],
            "text/plain": [
              "        Open     High     Low   Close   Volume\n",
              "0     35.451  35.5730  35.098  35.392  1007509\n",
              "1     35.744  36.3070  35.702  36.000  2007164\n",
              "2     35.809  35.8090  35.159  35.202  1466149\n",
              "3     34.554  35.2670  34.554  35.267  1312312\n",
              "4     35.267  35.5130  33.700  33.764   941225\n",
              "...      ...      ...     ...     ...      ...\n",
              "4992  47.200  47.6800  46.530  47.290  1725638\n",
              "4993  47.110  47.2042  46.540  46.970  2168351\n",
              "4994  46.730  46.7700  45.370  45.890  3347930\n",
              "4995  44.710  44.7100  43.110  43.330  7671810\n",
              "4996  42.930  44.4600  42.750  43.010  4463839\n",
              "\n",
              "[4997 rows x 5 columns]"
            ]
          },
          "metadata": {
            "tags": []
          },
          "execution_count": 15
        }
      ]
    },
    {
      "cell_type": "code",
      "metadata": {
        "id": "Xp_kkvoI4ouK"
      },
      "source": [
        "scaled_data = scaler.fit_transform(df_temp)"
      ],
      "execution_count": null,
      "outputs": []
    },
    {
      "cell_type": "code",
      "metadata": {
        "id": "OO2Cjf8Y4_1O",
        "colab": {
          "base_uri": "https://localhost:8080/"
        },
        "outputId": "f9abdea8-0c43-4482-ce51-3c5143633c6f"
      },
      "source": [
        "scaled_data.shape"
      ],
      "execution_count": null,
      "outputs": [
        {
          "output_type": "execute_result",
          "data": {
            "text/plain": [
              "(4997, 5)"
            ]
          },
          "metadata": {
            "tags": []
          },
          "execution_count": 17
        }
      ]
    },
    {
      "cell_type": "code",
      "metadata": {
        "id": "N-bPHfZi5Inu",
        "colab": {
          "base_uri": "https://localhost:8080/"
        },
        "outputId": "2b71332d-964c-423d-a5f3-7ad81a011ea8"
      },
      "source": [
        "scaled_data"
      ],
      "execution_count": null,
      "outputs": [
        {
          "output_type": "execute_result",
          "data": {
            "text/plain": [
              "array([[3.48492231, 3.3923331 , 3.56213004, 3.5059626 , 1.07819467],\n",
              "       [3.51452757, 3.46554437, 3.62473225, 3.56816916, 1.15577978],\n",
              "       [3.52109529, 3.41587242, 3.56845245, 3.48652305, 1.11379058],\n",
              "       ...,\n",
              "       [4.62457338, 4.50915418, 4.62678214, 4.58004888, 1.25983915],\n",
              "       [4.42046883, 4.30368384, 4.39254209, 4.31812653, 1.59542362],\n",
              "       [4.24061433, 4.27874812, 4.35522952, 4.28538623, 1.34644695]])"
            ]
          },
          "metadata": {
            "tags": []
          },
          "execution_count": 18
        }
      ]
    },
    {
      "cell_type": "code",
      "metadata": {
        "id": "rx44LrXe5LRa"
      },
      "source": [
        "new_df=pd.DataFrame(scaled_data, columns=['Open','High','Low','Close','Volume'])"
      ],
      "execution_count": null,
      "outputs": []
    },
    {
      "cell_type": "code",
      "metadata": {
        "id": "3e5p_CHf5UlX",
        "colab": {
          "base_uri": "https://localhost:8080/",
          "height": 204
        },
        "outputId": "03b98aa5-c3a3-4343-9be2-26d034675656"
      },
      "source": [
        "new_df.head()"
      ],
      "execution_count": null,
      "outputs": [
        {
          "output_type": "execute_result",
          "data": {
            "text/html": [
              "<div>\n",
              "<style scoped>\n",
              "    .dataframe tbody tr th:only-of-type {\n",
              "        vertical-align: middle;\n",
              "    }\n",
              "\n",
              "    .dataframe tbody tr th {\n",
              "        vertical-align: top;\n",
              "    }\n",
              "\n",
              "    .dataframe thead th {\n",
              "        text-align: right;\n",
              "    }\n",
              "</style>\n",
              "<table border=\"1\" class=\"dataframe\">\n",
              "  <thead>\n",
              "    <tr style=\"text-align: right;\">\n",
              "      <th></th>\n",
              "      <th>Open</th>\n",
              "      <th>High</th>\n",
              "      <th>Low</th>\n",
              "      <th>Close</th>\n",
              "      <th>Volume</th>\n",
              "    </tr>\n",
              "  </thead>\n",
              "  <tbody>\n",
              "    <tr>\n",
              "      <th>0</th>\n",
              "      <td>3.484922</td>\n",
              "      <td>3.392333</td>\n",
              "      <td>3.562130</td>\n",
              "      <td>3.505963</td>\n",
              "      <td>1.078195</td>\n",
              "    </tr>\n",
              "    <tr>\n",
              "      <th>1</th>\n",
              "      <td>3.514528</td>\n",
              "      <td>3.465544</td>\n",
              "      <td>3.624732</td>\n",
              "      <td>3.568169</td>\n",
              "      <td>1.155780</td>\n",
              "    </tr>\n",
              "    <tr>\n",
              "      <th>2</th>\n",
              "      <td>3.521095</td>\n",
              "      <td>3.415872</td>\n",
              "      <td>3.568452</td>\n",
              "      <td>3.486523</td>\n",
              "      <td>1.113791</td>\n",
              "    </tr>\n",
              "    <tr>\n",
              "      <th>3</th>\n",
              "      <td>3.394288</td>\n",
              "      <td>3.361812</td>\n",
              "      <td>3.505747</td>\n",
              "      <td>3.493173</td>\n",
              "      <td>1.101851</td>\n",
              "    </tr>\n",
              "    <tr>\n",
              "      <th>4</th>\n",
              "      <td>3.466331</td>\n",
              "      <td>3.386349</td>\n",
              "      <td>3.417233</td>\n",
              "      <td>3.339396</td>\n",
              "      <td>1.073050</td>\n",
              "    </tr>\n",
              "  </tbody>\n",
              "</table>\n",
              "</div>"
            ],
            "text/plain": [
              "       Open      High       Low     Close    Volume\n",
              "0  3.484922  3.392333  3.562130  3.505963  1.078195\n",
              "1  3.514528  3.465544  3.624732  3.568169  1.155780\n",
              "2  3.521095  3.415872  3.568452  3.486523  1.113791\n",
              "3  3.394288  3.361812  3.505747  3.493173  1.101851\n",
              "4  3.466331  3.386349  3.417233  3.339396  1.073050"
            ]
          },
          "metadata": {
            "tags": []
          },
          "execution_count": 20
        }
      ]
    },
    {
      "cell_type": "code",
      "metadata": {
        "id": "LaMgcY-Avtxy",
        "colab": {
          "base_uri": "https://localhost:8080/",
          "height": 419
        },
        "outputId": "446f8f21-272a-4a96-c819-b7e3a20ded08"
      },
      "source": [
        "#reseting the index of the new concatenated dataset\n",
        "new_df=new_df.reset_index(drop=True)\n",
        "new_df"
      ],
      "execution_count": null,
      "outputs": [
        {
          "output_type": "execute_result",
          "data": {
            "text/html": [
              "<div>\n",
              "<style scoped>\n",
              "    .dataframe tbody tr th:only-of-type {\n",
              "        vertical-align: middle;\n",
              "    }\n",
              "\n",
              "    .dataframe tbody tr th {\n",
              "        vertical-align: top;\n",
              "    }\n",
              "\n",
              "    .dataframe thead th {\n",
              "        text-align: right;\n",
              "    }\n",
              "</style>\n",
              "<table border=\"1\" class=\"dataframe\">\n",
              "  <thead>\n",
              "    <tr style=\"text-align: right;\">\n",
              "      <th></th>\n",
              "      <th>Open</th>\n",
              "      <th>High</th>\n",
              "      <th>Low</th>\n",
              "      <th>Close</th>\n",
              "      <th>Volume</th>\n",
              "    </tr>\n",
              "  </thead>\n",
              "  <tbody>\n",
              "    <tr>\n",
              "      <th>0</th>\n",
              "      <td>3.484922</td>\n",
              "      <td>3.392333</td>\n",
              "      <td>3.562130</td>\n",
              "      <td>3.505963</td>\n",
              "      <td>1.078195</td>\n",
              "    </tr>\n",
              "    <tr>\n",
              "      <th>1</th>\n",
              "      <td>3.514528</td>\n",
              "      <td>3.465544</td>\n",
              "      <td>3.624732</td>\n",
              "      <td>3.568169</td>\n",
              "      <td>1.155780</td>\n",
              "    </tr>\n",
              "    <tr>\n",
              "      <th>2</th>\n",
              "      <td>3.521095</td>\n",
              "      <td>3.415872</td>\n",
              "      <td>3.568452</td>\n",
              "      <td>3.486523</td>\n",
              "      <td>1.113791</td>\n",
              "    </tr>\n",
              "    <tr>\n",
              "      <th>3</th>\n",
              "      <td>3.394288</td>\n",
              "      <td>3.361812</td>\n",
              "      <td>3.505747</td>\n",
              "      <td>3.493173</td>\n",
              "      <td>1.101851</td>\n",
              "    </tr>\n",
              "    <tr>\n",
              "      <th>4</th>\n",
              "      <td>3.466331</td>\n",
              "      <td>3.386349</td>\n",
              "      <td>3.417233</td>\n",
              "      <td>3.339396</td>\n",
              "      <td>1.073050</td>\n",
              "    </tr>\n",
              "    <tr>\n",
              "      <th>...</th>\n",
              "      <td>...</td>\n",
              "      <td>...</td>\n",
              "      <td>...</td>\n",
              "      <td>...</td>\n",
              "      <td>...</td>\n",
              "    </tr>\n",
              "    <tr>\n",
              "      <th>4992</th>\n",
              "      <td>4.672063</td>\n",
              "      <td>4.599920</td>\n",
              "      <td>4.747012</td>\n",
              "      <td>4.723288</td>\n",
              "      <td>1.133930</td>\n",
              "    </tr>\n",
              "    <tr>\n",
              "      <th>4993</th>\n",
              "      <td>4.662969</td>\n",
              "      <td>4.552463</td>\n",
              "      <td>4.748048</td>\n",
              "      <td>4.690547</td>\n",
              "      <td>1.168290</td>\n",
              "    </tr>\n",
              "    <tr>\n",
              "      <th>4994</th>\n",
              "      <td>4.624573</td>\n",
              "      <td>4.509154</td>\n",
              "      <td>4.626782</td>\n",
              "      <td>4.580049</td>\n",
              "      <td>1.259839</td>\n",
              "    </tr>\n",
              "    <tr>\n",
              "      <th>4995</th>\n",
              "      <td>4.420469</td>\n",
              "      <td>4.303684</td>\n",
              "      <td>4.392542</td>\n",
              "      <td>4.318127</td>\n",
              "      <td>1.595424</td>\n",
              "    </tr>\n",
              "    <tr>\n",
              "      <th>4996</th>\n",
              "      <td>4.240614</td>\n",
              "      <td>4.278748</td>\n",
              "      <td>4.355230</td>\n",
              "      <td>4.285386</td>\n",
              "      <td>1.346447</td>\n",
              "    </tr>\n",
              "  </tbody>\n",
              "</table>\n",
              "<p>4997 rows × 5 columns</p>\n",
              "</div>"
            ],
            "text/plain": [
              "          Open      High       Low     Close    Volume\n",
              "0     3.484922  3.392333  3.562130  3.505963  1.078195\n",
              "1     3.514528  3.465544  3.624732  3.568169  1.155780\n",
              "2     3.521095  3.415872  3.568452  3.486523  1.113791\n",
              "3     3.394288  3.361812  3.505747  3.493173  1.101851\n",
              "4     3.466331  3.386349  3.417233  3.339396  1.073050\n",
              "...        ...       ...       ...       ...       ...\n",
              "4992  4.672063  4.599920  4.747012  4.723288  1.133930\n",
              "4993  4.662969  4.552463  4.748048  4.690547  1.168290\n",
              "4994  4.624573  4.509154  4.626782  4.580049  1.259839\n",
              "4995  4.420469  4.303684  4.392542  4.318127  1.595424\n",
              "4996  4.240614  4.278748  4.355230  4.285386  1.346447\n",
              "\n",
              "[4997 rows x 5 columns]"
            ]
          },
          "metadata": {
            "tags": []
          },
          "execution_count": 22
        }
      ]
    },
    {
      "cell_type": "markdown",
      "metadata": {
        "id": "746ZXl50vtxy"
      },
      "source": [
        "### date as index"
      ]
    },
    {
      "cell_type": "code",
      "metadata": {
        "id": "nGx4abSKvtxz",
        "colab": {
          "base_uri": "https://localhost:8080/",
          "height": 419
        },
        "outputId": "f7f90594-9560-43e5-98f6-d3deafc6404d"
      },
      "source": [
        "#datetime\n",
        "date=stk_data.Date\n",
        "date=pd.DataFrame(date.values, columns=['date'])\n",
        "date"
      ],
      "execution_count": null,
      "outputs": [
        {
          "output_type": "execute_result",
          "data": {
            "text/html": [
              "<div>\n",
              "<style scoped>\n",
              "    .dataframe tbody tr th:only-of-type {\n",
              "        vertical-align: middle;\n",
              "    }\n",
              "\n",
              "    .dataframe tbody tr th {\n",
              "        vertical-align: top;\n",
              "    }\n",
              "\n",
              "    .dataframe thead th {\n",
              "        text-align: right;\n",
              "    }\n",
              "</style>\n",
              "<table border=\"1\" class=\"dataframe\">\n",
              "  <thead>\n",
              "    <tr style=\"text-align: right;\">\n",
              "      <th></th>\n",
              "      <th>date</th>\n",
              "    </tr>\n",
              "  </thead>\n",
              "  <tbody>\n",
              "    <tr>\n",
              "      <th>0</th>\n",
              "      <td>1998-01-02</td>\n",
              "    </tr>\n",
              "    <tr>\n",
              "      <th>1</th>\n",
              "      <td>1998-01-05</td>\n",
              "    </tr>\n",
              "    <tr>\n",
              "      <th>2</th>\n",
              "      <td>1998-01-06</td>\n",
              "    </tr>\n",
              "    <tr>\n",
              "      <th>3</th>\n",
              "      <td>1998-01-07</td>\n",
              "    </tr>\n",
              "    <tr>\n",
              "      <th>4</th>\n",
              "      <td>1998-01-08</td>\n",
              "    </tr>\n",
              "    <tr>\n",
              "      <th>...</th>\n",
              "      <td>...</td>\n",
              "    </tr>\n",
              "    <tr>\n",
              "      <th>4992</th>\n",
              "      <td>2017-11-06</td>\n",
              "    </tr>\n",
              "    <tr>\n",
              "      <th>4993</th>\n",
              "      <td>2017-11-07</td>\n",
              "    </tr>\n",
              "    <tr>\n",
              "      <th>4994</th>\n",
              "      <td>2017-11-08</td>\n",
              "    </tr>\n",
              "    <tr>\n",
              "      <th>4995</th>\n",
              "      <td>2017-11-09</td>\n",
              "    </tr>\n",
              "    <tr>\n",
              "      <th>4996</th>\n",
              "      <td>2017-11-10</td>\n",
              "    </tr>\n",
              "  </tbody>\n",
              "</table>\n",
              "<p>4997 rows × 1 columns</p>\n",
              "</div>"
            ],
            "text/plain": [
              "            date\n",
              "0     1998-01-02\n",
              "1     1998-01-05\n",
              "2     1998-01-06\n",
              "3     1998-01-07\n",
              "4     1998-01-08\n",
              "...          ...\n",
              "4992  2017-11-06\n",
              "4993  2017-11-07\n",
              "4994  2017-11-08\n",
              "4995  2017-11-09\n",
              "4996  2017-11-10\n",
              "\n",
              "[4997 rows x 1 columns]"
            ]
          },
          "metadata": {
            "tags": []
          },
          "execution_count": 23
        }
      ]
    },
    {
      "cell_type": "code",
      "metadata": {
        "id": "YVv3PnMAvtxz",
        "colab": {
          "base_uri": "https://localhost:8080/",
          "height": 419
        },
        "outputId": "9eb81ed4-77b6-4882-926b-d1b4cab335a2"
      },
      "source": [
        "df00=pd.concat([new_df, date], axis=1)\n",
        "df00"
      ],
      "execution_count": null,
      "outputs": [
        {
          "output_type": "execute_result",
          "data": {
            "text/html": [
              "<div>\n",
              "<style scoped>\n",
              "    .dataframe tbody tr th:only-of-type {\n",
              "        vertical-align: middle;\n",
              "    }\n",
              "\n",
              "    .dataframe tbody tr th {\n",
              "        vertical-align: top;\n",
              "    }\n",
              "\n",
              "    .dataframe thead th {\n",
              "        text-align: right;\n",
              "    }\n",
              "</style>\n",
              "<table border=\"1\" class=\"dataframe\">\n",
              "  <thead>\n",
              "    <tr style=\"text-align: right;\">\n",
              "      <th></th>\n",
              "      <th>Open</th>\n",
              "      <th>High</th>\n",
              "      <th>Low</th>\n",
              "      <th>Close</th>\n",
              "      <th>Volume</th>\n",
              "      <th>date</th>\n",
              "    </tr>\n",
              "  </thead>\n",
              "  <tbody>\n",
              "    <tr>\n",
              "      <th>0</th>\n",
              "      <td>3.484922</td>\n",
              "      <td>3.392333</td>\n",
              "      <td>3.562130</td>\n",
              "      <td>3.505963</td>\n",
              "      <td>1.078195</td>\n",
              "      <td>1998-01-02</td>\n",
              "    </tr>\n",
              "    <tr>\n",
              "      <th>1</th>\n",
              "      <td>3.514528</td>\n",
              "      <td>3.465544</td>\n",
              "      <td>3.624732</td>\n",
              "      <td>3.568169</td>\n",
              "      <td>1.155780</td>\n",
              "      <td>1998-01-05</td>\n",
              "    </tr>\n",
              "    <tr>\n",
              "      <th>2</th>\n",
              "      <td>3.521095</td>\n",
              "      <td>3.415872</td>\n",
              "      <td>3.568452</td>\n",
              "      <td>3.486523</td>\n",
              "      <td>1.113791</td>\n",
              "      <td>1998-01-06</td>\n",
              "    </tr>\n",
              "    <tr>\n",
              "      <th>3</th>\n",
              "      <td>3.394288</td>\n",
              "      <td>3.361812</td>\n",
              "      <td>3.505747</td>\n",
              "      <td>3.493173</td>\n",
              "      <td>1.101851</td>\n",
              "      <td>1998-01-07</td>\n",
              "    </tr>\n",
              "    <tr>\n",
              "      <th>4</th>\n",
              "      <td>3.466331</td>\n",
              "      <td>3.386349</td>\n",
              "      <td>3.417233</td>\n",
              "      <td>3.339396</td>\n",
              "      <td>1.073050</td>\n",
              "      <td>1998-01-08</td>\n",
              "    </tr>\n",
              "    <tr>\n",
              "      <th>...</th>\n",
              "      <td>...</td>\n",
              "      <td>...</td>\n",
              "      <td>...</td>\n",
              "      <td>...</td>\n",
              "      <td>...</td>\n",
              "      <td>...</td>\n",
              "    </tr>\n",
              "    <tr>\n",
              "      <th>4992</th>\n",
              "      <td>4.672063</td>\n",
              "      <td>4.599920</td>\n",
              "      <td>4.747012</td>\n",
              "      <td>4.723288</td>\n",
              "      <td>1.133930</td>\n",
              "      <td>2017-11-06</td>\n",
              "    </tr>\n",
              "    <tr>\n",
              "      <th>4993</th>\n",
              "      <td>4.662969</td>\n",
              "      <td>4.552463</td>\n",
              "      <td>4.748048</td>\n",
              "      <td>4.690547</td>\n",
              "      <td>1.168290</td>\n",
              "      <td>2017-11-07</td>\n",
              "    </tr>\n",
              "    <tr>\n",
              "      <th>4994</th>\n",
              "      <td>4.624573</td>\n",
              "      <td>4.509154</td>\n",
              "      <td>4.626782</td>\n",
              "      <td>4.580049</td>\n",
              "      <td>1.259839</td>\n",
              "      <td>2017-11-08</td>\n",
              "    </tr>\n",
              "    <tr>\n",
              "      <th>4995</th>\n",
              "      <td>4.420469</td>\n",
              "      <td>4.303684</td>\n",
              "      <td>4.392542</td>\n",
              "      <td>4.318127</td>\n",
              "      <td>1.595424</td>\n",
              "      <td>2017-11-09</td>\n",
              "    </tr>\n",
              "    <tr>\n",
              "      <th>4996</th>\n",
              "      <td>4.240614</td>\n",
              "      <td>4.278748</td>\n",
              "      <td>4.355230</td>\n",
              "      <td>4.285386</td>\n",
              "      <td>1.346447</td>\n",
              "      <td>2017-11-10</td>\n",
              "    </tr>\n",
              "  </tbody>\n",
              "</table>\n",
              "<p>4997 rows × 6 columns</p>\n",
              "</div>"
            ],
            "text/plain": [
              "          Open      High       Low     Close    Volume        date\n",
              "0     3.484922  3.392333  3.562130  3.505963  1.078195  1998-01-02\n",
              "1     3.514528  3.465544  3.624732  3.568169  1.155780  1998-01-05\n",
              "2     3.521095  3.415872  3.568452  3.486523  1.113791  1998-01-06\n",
              "3     3.394288  3.361812  3.505747  3.493173  1.101851  1998-01-07\n",
              "4     3.466331  3.386349  3.417233  3.339396  1.073050  1998-01-08\n",
              "...        ...       ...       ...       ...       ...         ...\n",
              "4992  4.672063  4.599920  4.747012  4.723288  1.133930  2017-11-06\n",
              "4993  4.662969  4.552463  4.748048  4.690547  1.168290  2017-11-07\n",
              "4994  4.624573  4.509154  4.626782  4.580049  1.259839  2017-11-08\n",
              "4995  4.420469  4.303684  4.392542  4.318127  1.595424  2017-11-09\n",
              "4996  4.240614  4.278748  4.355230  4.285386  1.346447  2017-11-10\n",
              "\n",
              "[4997 rows x 6 columns]"
            ]
          },
          "metadata": {
            "tags": []
          },
          "execution_count": 24
        }
      ]
    },
    {
      "cell_type": "code",
      "metadata": {
        "id": "rKvb2Lnovtxz",
        "colab": {
          "base_uri": "https://localhost:8080/",
          "height": 450
        },
        "outputId": "b318b602-17ed-44e9-c280-2205bdbb1b3e"
      },
      "source": [
        "#setting datetim as an index and then removing it from the feature set.\n",
        "df00['date']=pd.to_datetime(df00.date)\n",
        "format='%Y-%m-%d'\n",
        "df00['Datetime']=pd.to_datetime(df00['date'],format=format)\n",
        "df00=df00.set_index(pd.DatetimeIndex(df00['Datetime']))\n",
        "df00"
      ],
      "execution_count": null,
      "outputs": [
        {
          "output_type": "execute_result",
          "data": {
            "text/html": [
              "<div>\n",
              "<style scoped>\n",
              "    .dataframe tbody tr th:only-of-type {\n",
              "        vertical-align: middle;\n",
              "    }\n",
              "\n",
              "    .dataframe tbody tr th {\n",
              "        vertical-align: top;\n",
              "    }\n",
              "\n",
              "    .dataframe thead th {\n",
              "        text-align: right;\n",
              "    }\n",
              "</style>\n",
              "<table border=\"1\" class=\"dataframe\">\n",
              "  <thead>\n",
              "    <tr style=\"text-align: right;\">\n",
              "      <th></th>\n",
              "      <th>Open</th>\n",
              "      <th>High</th>\n",
              "      <th>Low</th>\n",
              "      <th>Close</th>\n",
              "      <th>Volume</th>\n",
              "      <th>date</th>\n",
              "      <th>Datetime</th>\n",
              "    </tr>\n",
              "    <tr>\n",
              "      <th>Datetime</th>\n",
              "      <th></th>\n",
              "      <th></th>\n",
              "      <th></th>\n",
              "      <th></th>\n",
              "      <th></th>\n",
              "      <th></th>\n",
              "      <th></th>\n",
              "    </tr>\n",
              "  </thead>\n",
              "  <tbody>\n",
              "    <tr>\n",
              "      <th>1998-01-02</th>\n",
              "      <td>3.484922</td>\n",
              "      <td>3.392333</td>\n",
              "      <td>3.562130</td>\n",
              "      <td>3.505963</td>\n",
              "      <td>1.078195</td>\n",
              "      <td>1998-01-02</td>\n",
              "      <td>1998-01-02</td>\n",
              "    </tr>\n",
              "    <tr>\n",
              "      <th>1998-01-05</th>\n",
              "      <td>3.514528</td>\n",
              "      <td>3.465544</td>\n",
              "      <td>3.624732</td>\n",
              "      <td>3.568169</td>\n",
              "      <td>1.155780</td>\n",
              "      <td>1998-01-05</td>\n",
              "      <td>1998-01-05</td>\n",
              "    </tr>\n",
              "    <tr>\n",
              "      <th>1998-01-06</th>\n",
              "      <td>3.521095</td>\n",
              "      <td>3.415872</td>\n",
              "      <td>3.568452</td>\n",
              "      <td>3.486523</td>\n",
              "      <td>1.113791</td>\n",
              "      <td>1998-01-06</td>\n",
              "      <td>1998-01-06</td>\n",
              "    </tr>\n",
              "    <tr>\n",
              "      <th>1998-01-07</th>\n",
              "      <td>3.394288</td>\n",
              "      <td>3.361812</td>\n",
              "      <td>3.505747</td>\n",
              "      <td>3.493173</td>\n",
              "      <td>1.101851</td>\n",
              "      <td>1998-01-07</td>\n",
              "      <td>1998-01-07</td>\n",
              "    </tr>\n",
              "    <tr>\n",
              "      <th>1998-01-08</th>\n",
              "      <td>3.466331</td>\n",
              "      <td>3.386349</td>\n",
              "      <td>3.417233</td>\n",
              "      <td>3.339396</td>\n",
              "      <td>1.073050</td>\n",
              "      <td>1998-01-08</td>\n",
              "      <td>1998-01-08</td>\n",
              "    </tr>\n",
              "    <tr>\n",
              "      <th>...</th>\n",
              "      <td>...</td>\n",
              "      <td>...</td>\n",
              "      <td>...</td>\n",
              "      <td>...</td>\n",
              "      <td>...</td>\n",
              "      <td>...</td>\n",
              "      <td>...</td>\n",
              "    </tr>\n",
              "    <tr>\n",
              "      <th>2017-11-06</th>\n",
              "      <td>4.672063</td>\n",
              "      <td>4.599920</td>\n",
              "      <td>4.747012</td>\n",
              "      <td>4.723288</td>\n",
              "      <td>1.133930</td>\n",
              "      <td>2017-11-06</td>\n",
              "      <td>2017-11-06</td>\n",
              "    </tr>\n",
              "    <tr>\n",
              "      <th>2017-11-07</th>\n",
              "      <td>4.662969</td>\n",
              "      <td>4.552463</td>\n",
              "      <td>4.748048</td>\n",
              "      <td>4.690547</td>\n",
              "      <td>1.168290</td>\n",
              "      <td>2017-11-07</td>\n",
              "      <td>2017-11-07</td>\n",
              "    </tr>\n",
              "    <tr>\n",
              "      <th>2017-11-08</th>\n",
              "      <td>4.624573</td>\n",
              "      <td>4.509154</td>\n",
              "      <td>4.626782</td>\n",
              "      <td>4.580049</td>\n",
              "      <td>1.259839</td>\n",
              "      <td>2017-11-08</td>\n",
              "      <td>2017-11-08</td>\n",
              "    </tr>\n",
              "    <tr>\n",
              "      <th>2017-11-09</th>\n",
              "      <td>4.420469</td>\n",
              "      <td>4.303684</td>\n",
              "      <td>4.392542</td>\n",
              "      <td>4.318127</td>\n",
              "      <td>1.595424</td>\n",
              "      <td>2017-11-09</td>\n",
              "      <td>2017-11-09</td>\n",
              "    </tr>\n",
              "    <tr>\n",
              "      <th>2017-11-10</th>\n",
              "      <td>4.240614</td>\n",
              "      <td>4.278748</td>\n",
              "      <td>4.355230</td>\n",
              "      <td>4.285386</td>\n",
              "      <td>1.346447</td>\n",
              "      <td>2017-11-10</td>\n",
              "      <td>2017-11-10</td>\n",
              "    </tr>\n",
              "  </tbody>\n",
              "</table>\n",
              "<p>4997 rows × 7 columns</p>\n",
              "</div>"
            ],
            "text/plain": [
              "                Open      High       Low  ...    Volume       date   Datetime\n",
              "Datetime                                  ...                                \n",
              "1998-01-02  3.484922  3.392333  3.562130  ...  1.078195 1998-01-02 1998-01-02\n",
              "1998-01-05  3.514528  3.465544  3.624732  ...  1.155780 1998-01-05 1998-01-05\n",
              "1998-01-06  3.521095  3.415872  3.568452  ...  1.113791 1998-01-06 1998-01-06\n",
              "1998-01-07  3.394288  3.361812  3.505747  ...  1.101851 1998-01-07 1998-01-07\n",
              "1998-01-08  3.466331  3.386349  3.417233  ...  1.073050 1998-01-08 1998-01-08\n",
              "...              ...       ...       ...  ...       ...        ...        ...\n",
              "2017-11-06  4.672063  4.599920  4.747012  ...  1.133930 2017-11-06 2017-11-06\n",
              "2017-11-07  4.662969  4.552463  4.748048  ...  1.168290 2017-11-07 2017-11-07\n",
              "2017-11-08  4.624573  4.509154  4.626782  ...  1.259839 2017-11-08 2017-11-08\n",
              "2017-11-09  4.420469  4.303684  4.392542  ...  1.595424 2017-11-09 2017-11-09\n",
              "2017-11-10  4.240614  4.278748  4.355230  ...  1.346447 2017-11-10 2017-11-10\n",
              "\n",
              "[4997 rows x 7 columns]"
            ]
          },
          "metadata": {
            "tags": []
          },
          "execution_count": 25
        }
      ]
    },
    {
      "cell_type": "code",
      "metadata": {
        "id": "adPmiM1mvtx0",
        "colab": {
          "base_uri": "https://localhost:8080/",
          "height": 450
        },
        "outputId": "a636324e-c2f4-4579-8fa5-fcef48f1febb"
      },
      "source": [
        "df_raw=df00[['Open','High','Low','Close','Volume']]\n",
        "df_raw"
      ],
      "execution_count": null,
      "outputs": [
        {
          "output_type": "execute_result",
          "data": {
            "text/html": [
              "<div>\n",
              "<style scoped>\n",
              "    .dataframe tbody tr th:only-of-type {\n",
              "        vertical-align: middle;\n",
              "    }\n",
              "\n",
              "    .dataframe tbody tr th {\n",
              "        vertical-align: top;\n",
              "    }\n",
              "\n",
              "    .dataframe thead th {\n",
              "        text-align: right;\n",
              "    }\n",
              "</style>\n",
              "<table border=\"1\" class=\"dataframe\">\n",
              "  <thead>\n",
              "    <tr style=\"text-align: right;\">\n",
              "      <th></th>\n",
              "      <th>Open</th>\n",
              "      <th>High</th>\n",
              "      <th>Low</th>\n",
              "      <th>Close</th>\n",
              "      <th>Volume</th>\n",
              "    </tr>\n",
              "    <tr>\n",
              "      <th>Datetime</th>\n",
              "      <th></th>\n",
              "      <th></th>\n",
              "      <th></th>\n",
              "      <th></th>\n",
              "      <th></th>\n",
              "    </tr>\n",
              "  </thead>\n",
              "  <tbody>\n",
              "    <tr>\n",
              "      <th>1998-01-02</th>\n",
              "      <td>3.484922</td>\n",
              "      <td>3.392333</td>\n",
              "      <td>3.562130</td>\n",
              "      <td>3.505963</td>\n",
              "      <td>1.078195</td>\n",
              "    </tr>\n",
              "    <tr>\n",
              "      <th>1998-01-05</th>\n",
              "      <td>3.514528</td>\n",
              "      <td>3.465544</td>\n",
              "      <td>3.624732</td>\n",
              "      <td>3.568169</td>\n",
              "      <td>1.155780</td>\n",
              "    </tr>\n",
              "    <tr>\n",
              "      <th>1998-01-06</th>\n",
              "      <td>3.521095</td>\n",
              "      <td>3.415872</td>\n",
              "      <td>3.568452</td>\n",
              "      <td>3.486523</td>\n",
              "      <td>1.113791</td>\n",
              "    </tr>\n",
              "    <tr>\n",
              "      <th>1998-01-07</th>\n",
              "      <td>3.394288</td>\n",
              "      <td>3.361812</td>\n",
              "      <td>3.505747</td>\n",
              "      <td>3.493173</td>\n",
              "      <td>1.101851</td>\n",
              "    </tr>\n",
              "    <tr>\n",
              "      <th>1998-01-08</th>\n",
              "      <td>3.466331</td>\n",
              "      <td>3.386349</td>\n",
              "      <td>3.417233</td>\n",
              "      <td>3.339396</td>\n",
              "      <td>1.073050</td>\n",
              "    </tr>\n",
              "    <tr>\n",
              "      <th>...</th>\n",
              "      <td>...</td>\n",
              "      <td>...</td>\n",
              "      <td>...</td>\n",
              "      <td>...</td>\n",
              "      <td>...</td>\n",
              "    </tr>\n",
              "    <tr>\n",
              "      <th>2017-11-06</th>\n",
              "      <td>4.672063</td>\n",
              "      <td>4.599920</td>\n",
              "      <td>4.747012</td>\n",
              "      <td>4.723288</td>\n",
              "      <td>1.133930</td>\n",
              "    </tr>\n",
              "    <tr>\n",
              "      <th>2017-11-07</th>\n",
              "      <td>4.662969</td>\n",
              "      <td>4.552463</td>\n",
              "      <td>4.748048</td>\n",
              "      <td>4.690547</td>\n",
              "      <td>1.168290</td>\n",
              "    </tr>\n",
              "    <tr>\n",
              "      <th>2017-11-08</th>\n",
              "      <td>4.624573</td>\n",
              "      <td>4.509154</td>\n",
              "      <td>4.626782</td>\n",
              "      <td>4.580049</td>\n",
              "      <td>1.259839</td>\n",
              "    </tr>\n",
              "    <tr>\n",
              "      <th>2017-11-09</th>\n",
              "      <td>4.420469</td>\n",
              "      <td>4.303684</td>\n",
              "      <td>4.392542</td>\n",
              "      <td>4.318127</td>\n",
              "      <td>1.595424</td>\n",
              "    </tr>\n",
              "    <tr>\n",
              "      <th>2017-11-10</th>\n",
              "      <td>4.240614</td>\n",
              "      <td>4.278748</td>\n",
              "      <td>4.355230</td>\n",
              "      <td>4.285386</td>\n",
              "      <td>1.346447</td>\n",
              "    </tr>\n",
              "  </tbody>\n",
              "</table>\n",
              "<p>4997 rows × 5 columns</p>\n",
              "</div>"
            ],
            "text/plain": [
              "                Open      High       Low     Close    Volume\n",
              "Datetime                                                    \n",
              "1998-01-02  3.484922  3.392333  3.562130  3.505963  1.078195\n",
              "1998-01-05  3.514528  3.465544  3.624732  3.568169  1.155780\n",
              "1998-01-06  3.521095  3.415872  3.568452  3.486523  1.113791\n",
              "1998-01-07  3.394288  3.361812  3.505747  3.493173  1.101851\n",
              "1998-01-08  3.466331  3.386349  3.417233  3.339396  1.073050\n",
              "...              ...       ...       ...       ...       ...\n",
              "2017-11-06  4.672063  4.599920  4.747012  4.723288  1.133930\n",
              "2017-11-07  4.662969  4.552463  4.748048  4.690547  1.168290\n",
              "2017-11-08  4.624573  4.509154  4.626782  4.580049  1.259839\n",
              "2017-11-09  4.420469  4.303684  4.392542  4.318127  1.595424\n",
              "2017-11-10  4.240614  4.278748  4.355230  4.285386  1.346447\n",
              "\n",
              "[4997 rows x 5 columns]"
            ]
          },
          "metadata": {
            "tags": []
          },
          "execution_count": 26
        }
      ]
    },
    {
      "cell_type": "code",
      "metadata": {
        "id": "FaogJcYEvtx0",
        "colab": {
          "base_uri": "https://localhost:8080/",
          "height": 235
        },
        "outputId": "307814a1-b0fb-42d0-a569-c14087df157c"
      },
      "source": [
        "df_raw=df_raw.reset_index(drop=True)\n",
        "df_raw.head(6)"
      ],
      "execution_count": null,
      "outputs": [
        {
          "output_type": "execute_result",
          "data": {
            "text/html": [
              "<div>\n",
              "<style scoped>\n",
              "    .dataframe tbody tr th:only-of-type {\n",
              "        vertical-align: middle;\n",
              "    }\n",
              "\n",
              "    .dataframe tbody tr th {\n",
              "        vertical-align: top;\n",
              "    }\n",
              "\n",
              "    .dataframe thead th {\n",
              "        text-align: right;\n",
              "    }\n",
              "</style>\n",
              "<table border=\"1\" class=\"dataframe\">\n",
              "  <thead>\n",
              "    <tr style=\"text-align: right;\">\n",
              "      <th></th>\n",
              "      <th>Open</th>\n",
              "      <th>High</th>\n",
              "      <th>Low</th>\n",
              "      <th>Close</th>\n",
              "      <th>Volume</th>\n",
              "    </tr>\n",
              "  </thead>\n",
              "  <tbody>\n",
              "    <tr>\n",
              "      <th>0</th>\n",
              "      <td>3.484922</td>\n",
              "      <td>3.392333</td>\n",
              "      <td>3.562130</td>\n",
              "      <td>3.505963</td>\n",
              "      <td>1.078195</td>\n",
              "    </tr>\n",
              "    <tr>\n",
              "      <th>1</th>\n",
              "      <td>3.514528</td>\n",
              "      <td>3.465544</td>\n",
              "      <td>3.624732</td>\n",
              "      <td>3.568169</td>\n",
              "      <td>1.155780</td>\n",
              "    </tr>\n",
              "    <tr>\n",
              "      <th>2</th>\n",
              "      <td>3.521095</td>\n",
              "      <td>3.415872</td>\n",
              "      <td>3.568452</td>\n",
              "      <td>3.486523</td>\n",
              "      <td>1.113791</td>\n",
              "    </tr>\n",
              "    <tr>\n",
              "      <th>3</th>\n",
              "      <td>3.394288</td>\n",
              "      <td>3.361812</td>\n",
              "      <td>3.505747</td>\n",
              "      <td>3.493173</td>\n",
              "      <td>1.101851</td>\n",
              "    </tr>\n",
              "    <tr>\n",
              "      <th>4</th>\n",
              "      <td>3.466331</td>\n",
              "      <td>3.386349</td>\n",
              "      <td>3.417233</td>\n",
              "      <td>3.339396</td>\n",
              "      <td>1.073050</td>\n",
              "    </tr>\n",
              "    <tr>\n",
              "      <th>5</th>\n",
              "      <td>3.312242</td>\n",
              "      <td>3.209704</td>\n",
              "      <td>3.335145</td>\n",
              "      <td>3.251816</td>\n",
              "      <td>1.225722</td>\n",
              "    </tr>\n",
              "  </tbody>\n",
              "</table>\n",
              "</div>"
            ],
            "text/plain": [
              "       Open      High       Low     Close    Volume\n",
              "0  3.484922  3.392333  3.562130  3.505963  1.078195\n",
              "1  3.514528  3.465544  3.624732  3.568169  1.155780\n",
              "2  3.521095  3.415872  3.568452  3.486523  1.113791\n",
              "3  3.394288  3.361812  3.505747  3.493173  1.101851\n",
              "4  3.466331  3.386349  3.417233  3.339396  1.073050\n",
              "5  3.312242  3.209704  3.335145  3.251816  1.225722"
            ]
          },
          "metadata": {
            "tags": []
          },
          "execution_count": 27
        }
      ]
    },
    {
      "cell_type": "code",
      "metadata": {
        "id": "i-MgVwkFvtx1",
        "colab": {
          "base_uri": "https://localhost:8080/"
        },
        "outputId": "fec05274-16d2-4893-a23f-c6aa56167789"
      },
      "source": [
        "closing_price = df_raw.loc[:,'Close'].values\n",
        "closing_price"
      ],
      "execution_count": null,
      "outputs": [
        {
          "output_type": "execute_result",
          "data": {
            "text/plain": [
              "array([3.5059626 , 3.56816916, 3.48652305, ..., 4.58004888, 4.31812653,\n",
              "       4.28538623])"
            ]
          },
          "metadata": {
            "tags": []
          },
          "execution_count": 28
        }
      ]
    },
    {
      "cell_type": "code",
      "metadata": {
        "id": "rdy1BIbnvtx1",
        "colab": {
          "base_uri": "https://localhost:8080/"
        },
        "outputId": "1613adcd-5c00-4696-9a98-ca053bfa35f2"
      },
      "source": [
        "close_Price=pd.DataFrame(closing_price, columns=['Close'])\n",
        "#print(close_Price)\n",
        "close_Price1=close_Price.iloc[5:]\n",
        "#print(close_Price1)\n",
        "close_Price2=close_Price1.reset_index(drop=True)\n",
        "print(close_Price2)\n",
        "\n",
        "# predd=predd.drop([0])\n",
        "# predd=predd.reset_index(drop=True)\n",
        "# predd"
      ],
      "execution_count": null,
      "outputs": [
        {
          "output_type": "stream",
          "text": [
            "         Close\n",
            "0     3.251816\n",
            "1     3.245370\n",
            "2     3.238925\n",
            "3     3.247519\n",
            "4     3.234320\n",
            "...        ...\n",
            "4987  4.723288\n",
            "4988  4.690547\n",
            "4989  4.580049\n",
            "4990  4.318127\n",
            "4991  4.285386\n",
            "\n",
            "[4992 rows x 1 columns]\n"
          ],
          "name": "stdout"
        }
      ]
    },
    {
      "cell_type": "markdown",
      "metadata": {
        "id": "3Ka1bTHqvtx1"
      },
      "source": [
        "### splitting into test and train "
      ]
    },
    {
      "cell_type": "code",
      "metadata": {
        "id": "E0kL1mTMvtx2"
      },
      "source": [
        "#Training and testing data\n",
        "train_df=df_raw.iloc[:3997,:]\n",
        "test_df=df_raw.iloc[3997:,:]\n",
        "train_vals=train_df.values\n",
        "test_vals=test_df.values\n"
      ],
      "execution_count": null,
      "outputs": []
    },
    {
      "cell_type": "code",
      "metadata": {
        "id": "Y7RXd8mNeKY9"
      },
      "source": [
        "Y_vals=close_Price2.iloc[:3995]\r\n",
        "Y_values=Y_vals.values #array of values\r\n",
        "Y_actuals=close_Price2.iloc[3995:]\r\n",
        "Y_actuals=Y_actuals.reset_index(drop=True)"
      ],
      "execution_count": null,
      "outputs": []
    },
    {
      "cell_type": "code",
      "metadata": {
        "id": "iclV_WaDycMX"
      },
      "source": [
        "a=5 #previous\r\n",
        "b=3 #prediction day"
      ],
      "execution_count": null,
      "outputs": []
    },
    {
      "cell_type": "code",
      "metadata": {
        "id": "J1MhRAEuvtx3"
      },
      "source": [
        "def split_sequences(sequences, n_steps_in):\n",
        "    X= list() #, list()\n",
        "    for i in range(len(sequences)):\n",
        "        # find the end of this pattern\n",
        "        end_ix = i + n_steps_in\n",
        "        #out_end_ix = end_ix + n_steps_out-1\n",
        "        # check if we are beyond the dataset\n",
        "        if end_ix > len(sequences):\n",
        "            break\n",
        "        # gather input and output parts of the pattern\n",
        "        seq_x = sequences[i:end_ix, :]#, sequences[end_ix-1:out_end_ix, -1]\n",
        "        X.append(seq_x)\n",
        "        #y.append(seq_y)\n",
        "    return np.array(X)"
      ],
      "execution_count": null,
      "outputs": []
    },
    {
      "cell_type": "code",
      "metadata": {
        "id": "BUucYuZdvtx3",
        "colab": {
          "base_uri": "https://localhost:8080/"
        },
        "outputId": "365ed5da-c657-4885-f096-5ed78f2102a7"
      },
      "source": [
        "X1=split_sequences(train_vals, a)\n",
        "X_test=split_sequences(test_vals,a)\n",
        "print(X1.shape, X_test.shape)"
      ],
      "execution_count": null,
      "outputs": [
        {
          "output_type": "stream",
          "text": [
            "(3993, 5, 5) (996, 5, 5)\n"
          ],
          "name": "stdout"
        }
      ]
    },
    {
      "cell_type": "code",
      "metadata": {
        "colab": {
          "base_uri": "https://localhost:8080/"
        },
        "id": "oyDb84DVoCNJ",
        "outputId": "62c7bd7a-e171-451d-a86e-a1cc943b9504"
      },
      "source": [
        "print(X1)"
      ],
      "execution_count": null,
      "outputs": [
        {
          "output_type": "stream",
          "text": [
            "[[[3.48492231 3.3923331  3.56213004 3.5059626  1.07819467]\n",
            "  [3.51452757 3.46554437 3.62473225 3.56816916 1.15577978]\n",
            "  [3.52109529 3.41587242 3.56845245 3.48652305 1.11379058]\n",
            "  [3.39428777 3.36181177 3.5057466  3.49317342 1.101851  ]\n",
            "  [3.46633061 3.38634852 3.41723288 3.33939635 1.07305024]]\n",
            "\n",
            " [[3.51452757 3.46554437 3.62473225 3.56816916 1.15577978]\n",
            "  [3.52109529 3.41587242 3.56845245 3.48652305 1.11379058]\n",
            "  [3.39428777 3.36181177 3.5057466  3.49317342 1.101851  ]\n",
            "  [3.46633061 3.38634852 3.41723288 3.33939635 1.07305024]\n",
            "  [3.31224178 3.20970387 3.33514522 3.25181606 1.22572244]]\n",
            "\n",
            " [[3.52109529 3.41587242 3.56845245 3.48652305 1.11379058]\n",
            "  [3.39428777 3.36181177 3.5057466  3.49317342 1.101851  ]\n",
            "  [3.46633061 3.38634852 3.41723288 3.33939635 1.07305024]\n",
            "  [3.31224178 3.20970387 3.33514522 3.25181606 1.22572244]\n",
            "  [3.16674151 3.12651831 3.27233572 3.24537032 1.16233689]]\n",
            "\n",
            " ...\n",
            "\n",
            " [[1.8316755  1.78258268 1.88949029 1.87109646 1.51939936]\n",
            "  [1.87532558 1.79345465 1.9140544  1.86894788 1.61256552]\n",
            "  [1.86006826 1.80422688 1.93198517 1.87989541 1.46054037]\n",
            "  [1.87977142 1.8019328  1.92307161 1.86219519 1.55445587]\n",
            "  [1.85562242 1.84721607 1.92742474 1.90199511 1.91729926]]\n",
            "\n",
            " [[1.87532558 1.79345465 1.9140544  1.86894788 1.61256552]\n",
            "  [1.86006826 1.80422688 1.93198517 1.87989541 1.46054037]\n",
            "  [1.87977142 1.8019328  1.92307161 1.86219519 1.55445587]\n",
            "  [1.85562242 1.84721607 1.92742474 1.90199511 1.91729926]\n",
            "  [1.88613706 1.81280477 1.94317894 1.8843972  1.55529354]]\n",
            "\n",
            " [[1.86006826 1.80422688 1.93198517 1.87989541 1.46054037]\n",
            "  [1.87977142 1.8019328  1.92307161 1.86219519 1.55445587]\n",
            "  [1.85562242 1.84721607 1.92742474 1.90199511 1.91729926]\n",
            "  [1.88613706 1.81280477 1.94317894 1.8843972  1.55529354]\n",
            "  [1.8905829  1.82557186 1.95437271 1.89984653 1.92796608]]]\n"
          ],
          "name": "stdout"
        }
      ]
    },
    {
      "cell_type": "code",
      "metadata": {
        "id": "Msk-pcL0vtx5"
      },
      "source": [
        "def Y_splitter(sequence, steps):\n",
        "    p=[]\n",
        "    for i in range(len(sequence)):\n",
        "        end_ix=i+steps\n",
        "        if end_ix>len(sequence):\n",
        "            break\n",
        "        seq_x=sequence[i:end_ix]\n",
        "        p.append(seq_x)\n",
        "    return np.array(p)"
      ],
      "execution_count": null,
      "outputs": []
    },
    {
      "cell_type": "code",
      "metadata": {
        "id": "fiXJtwJvvtx5",
        "colab": {
          "base_uri": "https://localhost:8080/"
        },
        "outputId": "5f04fd4c-8b09-44d3-c2ca-817ea3c422ae"
      },
      "source": [
        "#passing and splitting the close values\n",
        "\n",
        "Y1=Y_splitter(Y_values, b)\n",
        "Y1.shape"
      ],
      "execution_count": null,
      "outputs": [
        {
          "output_type": "execute_result",
          "data": {
            "text/plain": [
              "(3993, 3, 1)"
            ]
          },
          "metadata": {
            "tags": []
          },
          "execution_count": 45
        }
      ]
    },
    {
      "cell_type": "code",
      "metadata": {
        "colab": {
          "base_uri": "https://localhost:8080/"
        },
        "id": "wvWbFAUevM53",
        "outputId": "d1ee6bfd-3537-4643-9a9b-5a1e1270e924"
      },
      "source": [
        "print(Y1)"
      ],
      "execution_count": null,
      "outputs": [
        {
          "output_type": "stream",
          "text": [
            "[[[3.25181606]\n",
            "  [3.24537032]\n",
            "  [3.23892457]]\n",
            "\n",
            " [[3.24537032]\n",
            "  [3.23892457]\n",
            "  [3.2475189 ]]\n",
            "\n",
            " [[3.23892457]\n",
            "  [3.2475189 ]\n",
            "  [3.23432047]]\n",
            "\n",
            " ...\n",
            "\n",
            " [[1.8843972 ]\n",
            "  [1.89984653]\n",
            "  [1.92634571]]\n",
            "\n",
            " [[1.89984653]\n",
            "  [1.92634571]\n",
            "  [2.00369465]]\n",
            "\n",
            " [[1.92634571]\n",
            "  [2.00369465]\n",
            "  [2.0169954 ]]]\n"
          ],
          "name": "stdout"
        }
      ]
    },
    {
      "cell_type": "code",
      "metadata": {
        "id": "1Kqd_UmHvtx5",
        "colab": {
          "base_uri": "https://localhost:8080/"
        },
        "outputId": "eff5a6ff-fbf7-4147-951e-863a43415cd8"
      },
      "source": [
        "decoder_inputs=np.zeros((Y1.shape[0], Y1.shape[1],1))\n",
        "decoder_inputs.shape"
      ],
      "execution_count": null,
      "outputs": [
        {
          "output_type": "execute_result",
          "data": {
            "text/plain": [
              "(3993, 3, 1)"
            ]
          },
          "metadata": {
            "tags": []
          },
          "execution_count": 47
        }
      ]
    },
    {
      "cell_type": "code",
      "metadata": {
        "id": "DiJO4_u2vtx5",
        "colab": {
          "base_uri": "https://localhost:8080/"
        },
        "outputId": "acfedfd2-cd3e-42b6-a481-9f0ee7e3d2e9"
      },
      "source": [
        "print(\"Input train data size:\") \r\n",
        "print(X1.shape)\r\n",
        "print(\"________________________\")\r\n",
        "print(\"Input test data size:\") \r\n",
        "print(X_test.shape)\r\n",
        "print(\"________________________\")\r\n",
        "print(\"Output train data size:\") \r\n",
        "print(Y1.shape)"
      ],
      "execution_count": null,
      "outputs": [
        {
          "output_type": "stream",
          "text": [
            "Input train data size:\n",
            "(3993, 5, 5)\n",
            "________________________\n",
            "Input test data size:\n",
            "(996, 5, 5)\n",
            "________________________\n",
            "Output train data size:\n",
            "(3993, 3, 1)\n"
          ],
          "name": "stdout"
        }
      ]
    },
    {
      "cell_type": "code",
      "metadata": {
        "id": "5414ALNivtx6"
      },
      "source": [
        "# decoder_inputs"
      ],
      "execution_count": null,
      "outputs": []
    },
    {
      "cell_type": "code",
      "metadata": {
        "id": "ZPfufnkbfuap"
      },
      "source": [
        "n_hidden=100\r\n"
      ],
      "execution_count": null,
      "outputs": []
    },
    {
      "cell_type": "code",
      "metadata": {
        "colab": {
          "base_uri": "https://localhost:8080/"
        },
        "id": "EYPobruHghKs",
        "outputId": "cdb277c8-589e-4dfb-b9db-c1db7cfdfb37"
      },
      "source": [
        "input_train = Input(shape=(X1.shape[1], X1.shape[2]-0))\r\n",
        "output_train = Input(shape=(Y1.shape[1], Y1.shape[2]-0))\r\n",
        "print(input_train)\r\n",
        "print(output_train)"
      ],
      "execution_count": null,
      "outputs": [
        {
          "output_type": "stream",
          "text": [
            "KerasTensor(type_spec=TensorSpec(shape=(None, 5, 5), dtype=tf.float32, name='input_1'), name='input_1', description=\"created by layer 'input_1'\")\n",
            "KerasTensor(type_spec=TensorSpec(shape=(None, 3, 1), dtype=tf.float32, name='input_2'), name='input_2', description=\"created by layer 'input_2'\")\n"
          ],
          "name": "stdout"
        }
      ]
    },
    {
      "cell_type": "code",
      "metadata": {
        "colab": {
          "base_uri": "https://localhost:8080/"
        },
        "id": "ioD-vVWrg-21",
        "outputId": "f7125eb2-f542-4436-fae7-71bb90d8dede"
      },
      "source": [
        "print(input_train.shape)\r\n",
        "print(output_train.shape)"
      ],
      "execution_count": null,
      "outputs": [
        {
          "output_type": "stream",
          "text": [
            "(None, 5, 5)\n",
            "(None, 3, 1)\n"
          ],
          "name": "stdout"
        }
      ]
    },
    {
      "cell_type": "markdown",
      "metadata": {
        "id": "csw1xYbWhaMI"
      },
      "source": [
        "**ENCODER**"
      ]
    },
    {
      "cell_type": "code",
      "metadata": {
        "colab": {
          "base_uri": "https://localhost:8080/"
        },
        "id": "D6fh4v_thbyB",
        "outputId": "a830d4a5-121d-4fdc-8f0e-557929811975"
      },
      "source": [
        "# this we did in only encoder-decoder model\r\n",
        "# encoder_last_h1, encoder_last_h2, encoder_last_c = LSTM(\r\n",
        "#  n_hidden, activation='elu', dropout=0.2, recurrent_dropout=0.2, \r\n",
        "#  return_sequences=False, return_state=True)(input_train)\r\n",
        "# print(encoder_last_h1)\r\n",
        "# print(encoder_last_h2)\r\n",
        "# print(encoder_last_c)\r\n",
        "#we will try this in encoder-decoder attention model\r\n",
        "encoder_stack_h, encoder_last_h, encoder_last_c = LSTM(\r\n",
        "    n_hidden, activation='elu', dropout=0.2, recurrent_dropout=0.2, \r\n",
        "    return_state=True, return_sequences=True)(input_train)\r\n",
        "print(encoder_stack_h)\r\n",
        "print(encoder_last_h)\r\n",
        "print(encoder_last_c)"
      ],
      "execution_count": null,
      "outputs": [
        {
          "output_type": "stream",
          "text": [
            "WARNING:tensorflow:Layer lstm will not use cuDNN kernel since it doesn't meet the cuDNN kernel criteria. It will use generic GPU kernel as fallback when running on GPU\n",
            "KerasTensor(type_spec=TensorSpec(shape=(None, 5, 100), dtype=tf.float32, name=None), name='lstm/transpose_1:0', description=\"created by layer 'lstm'\")\n",
            "KerasTensor(type_spec=TensorSpec(shape=(None, 100), dtype=tf.float32, name=None), name='lstm/while:4', description=\"created by layer 'lstm'\")\n",
            "KerasTensor(type_spec=TensorSpec(shape=(None, 100), dtype=tf.float32, name=None), name='lstm/while:5', description=\"created by layer 'lstm'\")\n"
          ],
          "name": "stdout"
        }
      ]
    },
    {
      "cell_type": "code",
      "metadata": {
        "id": "VyHCGu7xhn4S"
      },
      "source": [
        "# encoder_last_h1 = BatchNormalization(momentum=0.6)(encoder_last_h1)\r\n",
        "# encoder_last_c = BatchNormalization(momentum=0.6)(encoder_last_c)\r\n",
        "encoder_last_h = BatchNormalization(momentum=0.6)(encoder_last_h)\r\n",
        "encoder_last_c = BatchNormalization(momentum=0.6)(encoder_last_c)"
      ],
      "execution_count": null,
      "outputs": []
    },
    {
      "cell_type": "code",
      "metadata": {
        "colab": {
          "base_uri": "https://localhost:8080/"
        },
        "id": "OztqBuFFhqNV",
        "outputId": "a027b078-d3c3-4c78-f0ba-aef3c774b127"
      },
      "source": [
        "# decoder_input = RepeatVector(output_train.shape[1])(encoder_last_h1)\r\n",
        "decoder_input = RepeatVector(output_train.shape[1])(encoder_last_h)\r\n",
        "print(decoder_input)\r\n"
      ],
      "execution_count": null,
      "outputs": [
        {
          "output_type": "stream",
          "text": [
            "KerasTensor(type_spec=TensorSpec(shape=(None, 3, 100), dtype=tf.float32, name=None), name='repeat_vector/Tile:0', description=\"created by layer 'repeat_vector'\")\n"
          ],
          "name": "stdout"
        }
      ]
    },
    {
      "cell_type": "code",
      "metadata": {
        "colab": {
          "base_uri": "https://localhost:8080/"
        },
        "id": "zCioGI65mDBP",
        "outputId": "56030119-7563-4e1a-f3de-921c39774e56"
      },
      "source": [
        "decoder_stack_h = LSTM(n_hidden, activation='elu', dropout=0.2, recurrent_dropout=0.2,\r\n",
        " return_state=False, return_sequences=True)(\r\n",
        " decoder_input, initial_state=[encoder_last_h, encoder_last_c])\r\n",
        "print(decoder_stack_h)"
      ],
      "execution_count": null,
      "outputs": [
        {
          "output_type": "stream",
          "text": [
            "WARNING:tensorflow:Layer lstm_1 will not use cuDNN kernel since it doesn't meet the cuDNN kernel criteria. It will use generic GPU kernel as fallback when running on GPU\n",
            "KerasTensor(type_spec=TensorSpec(shape=(None, 3, 100), dtype=tf.float32, name=None), name='lstm_1/transpose_1:0', description=\"created by layer 'lstm_1'\")\n"
          ],
          "name": "stdout"
        }
      ]
    },
    {
      "cell_type": "code",
      "metadata": {
        "id": "h3rQadjCkvbX"
      },
      "source": [
        "# decoder = LSTM(n_hidden, activation='elu', dropout=0.2, recurrent_dropout=0.2, return_state=False, return_sequences=True)(\r\n",
        "#     decoder, initial_state=[encoder_last_h1, encoder_last_c])\r\n",
        "# print(decoder)"
      ],
      "execution_count": null,
      "outputs": []
    },
    {
      "cell_type": "markdown",
      "metadata": {
        "id": "yEvoop5UmW6u"
      },
      "source": [
        "**Attention Layer**"
      ]
    },
    {
      "cell_type": "code",
      "metadata": {
        "colab": {
          "base_uri": "https://localhost:8080/"
        },
        "id": "El4Nc8KMmkHj",
        "outputId": "78ade39d-28fd-49d4-87a4-fd435327164c"
      },
      "source": [
        "attention = dot([decoder_stack_h, encoder_stack_h], axes=[2, 2])\r\n",
        "attention = Activation('softmax')(attention)\r\n",
        "print(attention)"
      ],
      "execution_count": null,
      "outputs": [
        {
          "output_type": "stream",
          "text": [
            "KerasTensor(type_spec=TensorSpec(shape=(None, 3, 5), dtype=tf.float32, name=None), name='activation/truediv:0', description=\"created by layer 'activation'\")\n"
          ],
          "name": "stdout"
        }
      ]
    },
    {
      "cell_type": "code",
      "metadata": {
        "colab": {
          "base_uri": "https://localhost:8080/"
        },
        "id": "lNfhbPptmkN2",
        "outputId": "e788d6c8-2e2d-4281-8e36-57868f2059ae"
      },
      "source": [
        "context = dot([attention, encoder_stack_h], axes=[2,1])\r\n",
        "context = BatchNormalization(momentum=0.6)(context)\r\n",
        "print(context)"
      ],
      "execution_count": null,
      "outputs": [
        {
          "output_type": "stream",
          "text": [
            "KerasTensor(type_spec=TensorSpec(shape=(None, 3, 100), dtype=tf.float32, name=None), name='batch_normalization_2/batchnorm/add_1:0', description=\"created by layer 'batch_normalization_2'\")\n"
          ],
          "name": "stdout"
        }
      ]
    },
    {
      "cell_type": "markdown",
      "metadata": {
        "id": "c4bHxRJzN830"
      },
      "source": [
        "**DECODER**"
      ]
    },
    {
      "cell_type": "code",
      "metadata": {
        "colab": {
          "base_uri": "https://localhost:8080/"
        },
        "id": "oJ90ZsMGmsHb",
        "outputId": "2027b915-feeb-4600-8fd3-5b5fa60e9a7d"
      },
      "source": [
        "decoder_combined_context = concatenate([context, decoder_stack_h])\r\n",
        "print(decoder_combined_context)"
      ],
      "execution_count": null,
      "outputs": [
        {
          "output_type": "stream",
          "text": [
            "KerasTensor(type_spec=TensorSpec(shape=(None, 3, 200), dtype=tf.float32, name=None), name='concatenate/concat:0', description=\"created by layer 'concatenate'\")\n"
          ],
          "name": "stdout"
        }
      ]
    },
    {
      "cell_type": "code",
      "metadata": {
        "colab": {
          "base_uri": "https://localhost:8080/"
        },
        "id": "DE7UbtGPmtt_",
        "outputId": "837734ab-cc96-4869-b3ad-5088f8af8828"
      },
      "source": [
        "out = TimeDistributed(Dense(output_train.shape[2]))(decoder_combined_context)\r\n",
        "print(out)"
      ],
      "execution_count": null,
      "outputs": [
        {
          "output_type": "stream",
          "text": [
            "KerasTensor(type_spec=TensorSpec(shape=(None, 3, 1), dtype=tf.float32, name=None), name='time_distributed/Reshape_1:0', description=\"created by layer 'time_distributed'\")\n"
          ],
          "name": "stdout"
        }
      ]
    },
    {
      "cell_type": "markdown",
      "metadata": {
        "id": "qDDhiF5QN50F"
      },
      "source": [
        "**Model**"
      ]
    },
    {
      "cell_type": "code",
      "metadata": {
        "colab": {
          "base_uri": "https://localhost:8080/"
        },
        "id": "Qf_bzYBjmyiZ",
        "outputId": "794f339f-b3db-4303-bcd5-6e221f67c26f"
      },
      "source": [
        "model = Model(inputs=input_train, outputs=out)\r\n",
        "opt = Adam(lr=0.01, clipnorm=1)\r\n",
        "model.compile(loss='mean_squared_error', optimizer=opt, metrics=['mae'])\r\n",
        "model.summary()"
      ],
      "execution_count": null,
      "outputs": [
        {
          "output_type": "stream",
          "text": [
            "Model: \"model_1\"\n",
            "__________________________________________________________________________________________________\n",
            "Layer (type)                    Output Shape         Param #     Connected to                     \n",
            "==================================================================================================\n",
            "input_1 (InputLayer)            [(None, 5, 5)]       0                                            \n",
            "__________________________________________________________________________________________________\n",
            "lstm (LSTM)                     [(None, 5, 100), (No 42400       input_1[0][0]                    \n",
            "__________________________________________________________________________________________________\n",
            "batch_normalization (BatchNorma (None, 100)          400         lstm[0][1]                       \n",
            "__________________________________________________________________________________________________\n",
            "repeat_vector (RepeatVector)    (None, 3, 100)       0           batch_normalization[0][0]        \n",
            "__________________________________________________________________________________________________\n",
            "batch_normalization_1 (BatchNor (None, 100)          400         lstm[0][2]                       \n",
            "__________________________________________________________________________________________________\n",
            "lstm_1 (LSTM)                   (None, 3, 100)       80400       repeat_vector[0][0]              \n",
            "                                                                 batch_normalization[0][0]        \n",
            "                                                                 batch_normalization_1[0][0]      \n",
            "__________________________________________________________________________________________________\n",
            "dot (Dot)                       (None, 3, 5)         0           lstm_1[0][0]                     \n",
            "                                                                 lstm[0][0]                       \n",
            "__________________________________________________________________________________________________\n",
            "activation (Activation)         (None, 3, 5)         0           dot[0][0]                        \n",
            "__________________________________________________________________________________________________\n",
            "dot_1 (Dot)                     (None, 3, 100)       0           activation[0][0]                 \n",
            "                                                                 lstm[0][0]                       \n",
            "__________________________________________________________________________________________________\n",
            "batch_normalization_2 (BatchNor (None, 3, 100)       400         dot_1[0][0]                      \n",
            "__________________________________________________________________________________________________\n",
            "concatenate (Concatenate)       (None, 3, 200)       0           batch_normalization_2[0][0]      \n",
            "                                                                 lstm_1[0][0]                     \n",
            "__________________________________________________________________________________________________\n",
            "time_distributed (TimeDistribut (None, 3, 1)         201         concatenate[0][0]                \n",
            "==================================================================================================\n",
            "Total params: 124,201\n",
            "Trainable params: 123,601\n",
            "Non-trainable params: 600\n",
            "__________________________________________________________________________________________________\n"
          ],
          "name": "stdout"
        }
      ]
    },
    {
      "cell_type": "code",
      "metadata": {
        "colab": {
          "base_uri": "https://localhost:8080/",
          "height": 954
        },
        "id": "1VepBQm3mkWg",
        "outputId": "9473b239-159e-408f-da3f-96bafa3cdecc"
      },
      "source": [
        "plot_model(model, to_file='Attention_model_plot.png', show_shapes=True, show_layer_names=True)"
      ],
      "execution_count": null,
      "outputs": [
        {
          "output_type": "execute_result",
          "data": {
            "image/png": "[encoded data removed]",
            "text/plain": [
              "<IPython.core.display.Image object>"
            ]
          },
          "metadata": {
            "tags": []
          },
          "execution_count": 62
        }
      ]
    },
    {
      "cell_type": "markdown",
      "metadata": {
        "id": "YSYx7AkkOH8w"
      },
      "source": [
        "***Training Phase ***"
      ]
    },
    {
      "cell_type": "code",
      "metadata": {
        "colab": {
          "base_uri": "https://localhost:8080/"
        },
        "id": "beAEzbITnOG3",
        "outputId": "49f0ace3-56cb-4560-9872-e62c08b8288b"
      },
      "source": [
        "epc = 500\r\n",
        "es = EarlyStopping(monitor='val_loss', mode='min', patience=50)\r\n",
        "history = model.fit(X1[:, :, :5], Y1[:, :, :1], validation_split=0.2, \r\n",
        "                    epochs=epc, verbose=1, callbacks=[es], \r\n",
        "                    batch_size=100)\r\n",
        "train_mae = history.history['mae']\r\n",
        "valid_mae = history.history['val_mae']\r\n",
        " \r\n",
        "model.save('model_forecasting_seq2seq.h5')"
      ],
      "execution_count": null,
      "outputs": [
        {
          "output_type": "stream",
          "text": [
            "Epoch 1/500\n",
            "32/32 [==============================] - 8s 59ms/step - loss: 10.4176 - mae: 2.2819 - val_loss: 0.1396 - val_mae: 0.3439\n",
            "Epoch 2/500\n",
            "32/32 [==============================] - 1s 37ms/step - loss: 0.5249 - mae: 0.5643 - val_loss: 0.2983 - val_mae: 0.4987\n",
            "Epoch 3/500\n",
            "32/32 [==============================] - 1s 37ms/step - loss: 0.2775 - mae: 0.4163 - val_loss: 0.2440 - val_mae: 0.4591\n",
            "Epoch 4/500\n",
            "32/32 [==============================] - 1s 37ms/step - loss: 0.2205 - mae: 0.3716 - val_loss: 0.0758 - val_mae: 0.1932\n",
            "Epoch 5/500\n",
            "32/32 [==============================] - 1s 36ms/step - loss: 0.3169 - mae: 0.4495 - val_loss: 0.2081 - val_mae: 0.4226\n",
            "Epoch 6/500\n",
            "32/32 [==============================] - 1s 38ms/step - loss: 0.1834 - mae: 0.3282 - val_loss: 0.1192 - val_mae: 0.3069\n",
            "Epoch 7/500\n",
            "32/32 [==============================] - 1s 38ms/step - loss: 0.1568 - mae: 0.3107 - val_loss: 0.1041 - val_mae: 0.2978\n",
            "Epoch 8/500\n",
            "32/32 [==============================] - 1s 41ms/step - loss: 0.1624 - mae: 0.3136 - val_loss: 0.3315 - val_mae: 0.5170\n",
            "Epoch 9/500\n",
            "32/32 [==============================] - 1s 39ms/step - loss: 0.1502 - mae: 0.2997 - val_loss: 0.0458 - val_mae: 0.1423\n",
            "Epoch 10/500\n",
            "32/32 [==============================] - 1s 37ms/step - loss: 0.1227 - mae: 0.2714 - val_loss: 0.0781 - val_mae: 0.2532\n",
            "Epoch 11/500\n",
            "32/32 [==============================] - 1s 37ms/step - loss: 0.1525 - mae: 0.3111 - val_loss: 0.3559 - val_mae: 0.5808\n",
            "Epoch 12/500\n",
            "32/32 [==============================] - 1s 36ms/step - loss: 0.1630 - mae: 0.3188 - val_loss: 0.0420 - val_mae: 0.1670\n",
            "Epoch 13/500\n",
            "32/32 [==============================] - 1s 38ms/step - loss: 0.1858 - mae: 0.3441 - val_loss: 0.1705 - val_mae: 0.3883\n",
            "Epoch 14/500\n",
            "32/32 [==============================] - 1s 37ms/step - loss: 0.1458 - mae: 0.2998 - val_loss: 0.1203 - val_mae: 0.3157\n",
            "Epoch 15/500\n",
            "32/32 [==============================] - 1s 37ms/step - loss: 0.1345 - mae: 0.2894 - val_loss: 0.5486 - val_mae: 0.7265\n",
            "Epoch 16/500\n",
            "32/32 [==============================] - 1s 36ms/step - loss: 0.1529 - mae: 0.3054 - val_loss: 0.1008 - val_mae: 0.2830\n",
            "Epoch 17/500\n",
            "32/32 [==============================] - 1s 39ms/step - loss: 0.1466 - mae: 0.3050 - val_loss: 0.0589 - val_mae: 0.1607\n",
            "Epoch 18/500\n",
            "32/32 [==============================] - 1s 37ms/step - loss: 0.1223 - mae: 0.2742 - val_loss: 0.0557 - val_mae: 0.1586\n",
            "Epoch 19/500\n",
            "32/32 [==============================] - 1s 38ms/step - loss: 0.1344 - mae: 0.2873 - val_loss: 0.2053 - val_mae: 0.4304\n",
            "Epoch 20/500\n",
            "32/32 [==============================] - 1s 37ms/step - loss: 0.1127 - mae: 0.2589 - val_loss: 0.0200 - val_mae: 0.1119\n",
            "Epoch 21/500\n",
            "32/32 [==============================] - 1s 37ms/step - loss: 0.1527 - mae: 0.3141 - val_loss: 0.2201 - val_mae: 0.4444\n",
            "Epoch 22/500\n",
            "32/32 [==============================] - 1s 37ms/step - loss: 0.1176 - mae: 0.2673 - val_loss: 0.0353 - val_mae: 0.1339\n",
            "Epoch 23/500\n",
            "32/32 [==============================] - 1s 38ms/step - loss: 0.1198 - mae: 0.2724 - val_loss: 0.0762 - val_mae: 0.2277\n",
            "Epoch 24/500\n",
            "32/32 [==============================] - 1s 35ms/step - loss: 0.1093 - mae: 0.2548 - val_loss: 0.0797 - val_mae: 0.2505\n",
            "Epoch 25/500\n",
            "32/32 [==============================] - 1s 37ms/step - loss: 0.1406 - mae: 0.2938 - val_loss: 0.0904 - val_mae: 0.2197\n",
            "Epoch 26/500\n",
            "32/32 [==============================] - 1s 37ms/step - loss: 0.0977 - mae: 0.2419 - val_loss: 0.0345 - val_mae: 0.1299\n",
            "Epoch 27/500\n",
            "32/32 [==============================] - 1s 39ms/step - loss: 0.1138 - mae: 0.2630 - val_loss: 0.0708 - val_mae: 0.2068\n",
            "Epoch 28/500\n",
            "32/32 [==============================] - 1s 38ms/step - loss: 0.1236 - mae: 0.2722 - val_loss: 0.1993 - val_mae: 0.3255\n",
            "Epoch 29/500\n",
            "32/32 [==============================] - 1s 37ms/step - loss: 0.1290 - mae: 0.2807 - val_loss: 0.1100 - val_mae: 0.2546\n",
            "Epoch 30/500\n",
            "32/32 [==============================] - 1s 36ms/step - loss: 0.1247 - mae: 0.2659 - val_loss: 0.0867 - val_mae: 0.2615\n",
            "Epoch 31/500\n",
            "32/32 [==============================] - 1s 38ms/step - loss: 0.1041 - mae: 0.2527 - val_loss: 0.0781 - val_mae: 0.1796\n",
            "Epoch 32/500\n",
            "32/32 [==============================] - 1s 38ms/step - loss: 0.1375 - mae: 0.2909 - val_loss: 0.3043 - val_mae: 0.5348\n",
            "Epoch 33/500\n",
            "32/32 [==============================] - 1s 38ms/step - loss: 0.1105 - mae: 0.2588 - val_loss: 0.3650 - val_mae: 0.5920\n",
            "Epoch 34/500\n",
            "32/32 [==============================] - 1s 37ms/step - loss: 0.1665 - mae: 0.3162 - val_loss: 0.2292 - val_mae: 0.4508\n",
            "Epoch 35/500\n",
            "32/32 [==============================] - 1s 36ms/step - loss: 0.1180 - mae: 0.2698 - val_loss: 0.0324 - val_mae: 0.1353\n",
            "Epoch 36/500\n",
            "32/32 [==============================] - 1s 39ms/step - loss: 0.1017 - mae: 0.2436 - val_loss: 0.3521 - val_mae: 0.5835\n",
            "Epoch 37/500\n",
            "32/32 [==============================] - 1s 37ms/step - loss: 0.1264 - mae: 0.2734 - val_loss: 0.1110 - val_mae: 0.3131\n",
            "Epoch 38/500\n",
            "32/32 [==============================] - 1s 39ms/step - loss: 0.1009 - mae: 0.2494 - val_loss: 0.0464 - val_mae: 0.1497\n",
            "Epoch 39/500\n",
            "32/32 [==============================] - 1s 39ms/step - loss: 0.1176 - mae: 0.2646 - val_loss: 0.2493 - val_mae: 0.4639\n",
            "Epoch 40/500\n",
            "32/32 [==============================] - 1s 39ms/step - loss: 0.1107 - mae: 0.2609 - val_loss: 0.3131 - val_mae: 0.5354\n",
            "Epoch 41/500\n",
            "32/32 [==============================] - 1s 39ms/step - loss: 0.1027 - mae: 0.2517 - val_loss: 0.0821 - val_mae: 0.2336\n",
            "Epoch 42/500\n",
            "32/32 [==============================] - 1s 37ms/step - loss: 0.0875 - mae: 0.2275 - val_loss: 0.1596 - val_mae: 0.3710\n",
            "Epoch 43/500\n",
            "32/32 [==============================] - 1s 37ms/step - loss: 0.0952 - mae: 0.2348 - val_loss: 0.2714 - val_mae: 0.5072\n",
            "Epoch 44/500\n",
            "32/32 [==============================] - 1s 38ms/step - loss: 0.1513 - mae: 0.3050 - val_loss: 0.2889 - val_mae: 0.5226\n",
            "Epoch 45/500\n",
            "32/32 [==============================] - 1s 37ms/step - loss: 0.1222 - mae: 0.2777 - val_loss: 0.0542 - val_mae: 0.1810\n",
            "Epoch 46/500\n",
            "32/32 [==============================] - 1s 38ms/step - loss: 0.0891 - mae: 0.2334 - val_loss: 0.0800 - val_mae: 0.2179\n",
            "Epoch 47/500\n",
            "32/32 [==============================] - 1s 41ms/step - loss: 0.1198 - mae: 0.2664 - val_loss: 0.1948 - val_mae: 0.4084\n",
            "Epoch 48/500\n",
            "32/32 [==============================] - 1s 39ms/step - loss: 0.1303 - mae: 0.2827 - val_loss: 0.2304 - val_mae: 0.4454\n",
            "Epoch 49/500\n",
            "32/32 [==============================] - 1s 37ms/step - loss: 0.0959 - mae: 0.2374 - val_loss: 0.1678 - val_mae: 0.3748\n",
            "Epoch 50/500\n",
            "32/32 [==============================] - 1s 38ms/step - loss: 0.0922 - mae: 0.2338 - val_loss: 0.1226 - val_mae: 0.2872\n",
            "Epoch 51/500\n",
            "32/32 [==============================] - 1s 37ms/step - loss: 0.1193 - mae: 0.2719 - val_loss: 0.0917 - val_mae: 0.2106\n",
            "Epoch 52/500\n",
            "32/32 [==============================] - 1s 38ms/step - loss: 0.0820 - mae: 0.2186 - val_loss: 0.2034 - val_mae: 0.4214\n",
            "Epoch 53/500\n",
            "32/32 [==============================] - 1s 38ms/step - loss: 0.0865 - mae: 0.2258 - val_loss: 0.2695 - val_mae: 0.4699\n",
            "Epoch 54/500\n",
            "32/32 [==============================] - 1s 38ms/step - loss: 0.0859 - mae: 0.2248 - val_loss: 0.0670 - val_mae: 0.1733\n",
            "Epoch 55/500\n",
            "32/32 [==============================] - 1s 38ms/step - loss: 0.0895 - mae: 0.2313 - val_loss: 0.0631 - val_mae: 0.1612\n",
            "Epoch 56/500\n",
            "32/32 [==============================] - 1s 38ms/step - loss: 0.1048 - mae: 0.2553 - val_loss: 0.3465 - val_mae: 0.5750\n",
            "Epoch 57/500\n",
            "32/32 [==============================] - 1s 38ms/step - loss: 0.0887 - mae: 0.2280 - val_loss: 0.0844 - val_mae: 0.2203\n",
            "Epoch 58/500\n",
            "32/32 [==============================] - 1s 39ms/step - loss: 0.1039 - mae: 0.2537 - val_loss: 0.1278 - val_mae: 0.3319\n",
            "Epoch 59/500\n",
            "32/32 [==============================] - 1s 38ms/step - loss: 0.0960 - mae: 0.2411 - val_loss: 0.1001 - val_mae: 0.2583\n",
            "Epoch 60/500\n",
            "32/32 [==============================] - 1s 38ms/step - loss: 0.0944 - mae: 0.2377 - val_loss: 0.3367 - val_mae: 0.5569\n",
            "Epoch 61/500\n",
            "32/32 [==============================] - 1s 38ms/step - loss: 0.0954 - mae: 0.2395 - val_loss: 0.2394 - val_mae: 0.4508\n",
            "Epoch 62/500\n",
            "32/32 [==============================] - 1s 43ms/step - loss: 0.0862 - mae: 0.2247 - val_loss: 0.1599 - val_mae: 0.3724\n",
            "Epoch 63/500\n",
            "32/32 [==============================] - 1s 40ms/step - loss: 0.1179 - mae: 0.2741 - val_loss: 0.2777 - val_mae: 0.5072\n",
            "Epoch 64/500\n",
            "32/32 [==============================] - 1s 38ms/step - loss: 0.0982 - mae: 0.2405 - val_loss: 0.1521 - val_mae: 0.3305\n",
            "Epoch 65/500\n",
            "32/32 [==============================] - 1s 37ms/step - loss: 0.1044 - mae: 0.2500 - val_loss: 0.1387 - val_mae: 0.3244\n",
            "Epoch 66/500\n",
            "32/32 [==============================] - 1s 38ms/step - loss: 0.1058 - mae: 0.2531 - val_loss: 0.1864 - val_mae: 0.3693\n",
            "Epoch 67/500\n",
            "32/32 [==============================] - 1s 38ms/step - loss: 0.0864 - mae: 0.2270 - val_loss: 0.0760 - val_mae: 0.1846\n",
            "Epoch 68/500\n",
            "32/32 [==============================] - 1s 39ms/step - loss: 0.1226 - mae: 0.2775 - val_loss: 0.0715 - val_mae: 0.1713\n",
            "Epoch 69/500\n",
            "32/32 [==============================] - 1s 39ms/step - loss: 0.1006 - mae: 0.2467 - val_loss: 0.0741 - val_mae: 0.1759\n",
            "Epoch 70/500\n",
            "32/32 [==============================] - 1s 38ms/step - loss: 0.0877 - mae: 0.2289 - val_loss: 0.1569 - val_mae: 0.3550\n"
          ],
          "name": "stdout"
        }
      ]
    },
    {
      "cell_type": "code",
      "metadata": {
        "colab": {
          "base_uri": "https://localhost:8080/",
          "height": 321
        },
        "id": "2RB0qSGynOJR",
        "outputId": "38f12f3a-5db9-439a-b736-00eba807094e"
      },
      "source": [
        "plt.plot(train_mae, label='train mae'), \r\n",
        "plt.plot(valid_mae, label='validation mae')\r\n",
        "plt.ylabel('mae')\r\n",
        "plt.xlabel('epoch')\r\n",
        "plt.title('train vs. validation accuracy After implementing Attention in between(mae)')\r\n",
        "plt.legend(loc='upper center', bbox_to_anchor=(0.5, -0.15), fancybox=True, shadow=False, ncol=2)\r\n",
        "plt.show()"
      ],
      "execution_count": null,
      "outputs": [
        {
          "output_type": "display_data",
          "data": {
            "image/png": "[encoded data removed]",
            "text/plain": [
              "<Figure size 432x288 with 1 Axes>"
            ]
          },
          "metadata": {
            "tags": []
          }
        }
      ]
    },
    {
      "cell_type": "markdown",
      "metadata": {
        "id": "ZSatLBAwOUql"
      },
      "source": [
        "**Prediction phase**"
      ]
    },
    {
      "cell_type": "code",
      "metadata": {
        "colab": {
          "base_uri": "https://localhost:8080/"
        },
        "id": "p7lAUMybvw8u",
        "outputId": "da1a4f34-f99d-47ba-fef7-7fcbd6f6370d"
      },
      "source": [
        "X_test\r\n"
      ],
      "execution_count": null,
      "outputs": [
        {
          "output_type": "execute_result",
          "data": {
            "text/plain": [
              "array([[[1.8905829 , 1.84083252, 1.95437271, 1.92634571, 1.87377436],\n",
              "        [2.02567586, 1.94386692, 2.05511666, 2.00369465, 2.50633053],\n",
              "        [1.98889662, 1.92711012, 2.03490568, 2.0169954 , 2.3346539 ],\n",
              "        [2.01072166, 1.95025047, 2.07760785, 2.01464219, 1.86221314],\n",
              "        [2.01536959, 1.93768286, 2.07304742, 2.00819644, 1.31368356]],\n",
              "\n",
              "       [[2.02567586, 1.94386692, 2.05511666, 2.00369465, 2.50633053],\n",
              "        [1.98889662, 1.92711012, 2.03490568, 2.0169954 , 2.3346539 ],\n",
              "        [2.01072166, 1.95025047, 2.07760785, 2.01464219, 1.86221314],\n",
              "        [2.01536959, 1.93768286, 2.07304742, 2.00819644, 1.31368356],\n",
              "        [2.00203206, 1.92272143, 2.05283645, 1.9948957 , 1.74483293]],\n",
              "\n",
              "       [[1.98889662, 1.92711012, 2.03490568, 2.0169954 , 2.3346539 ],\n",
              "        [2.01072166, 1.95025047, 2.07760785, 2.01464219, 1.86221314],\n",
              "        [2.01536959, 1.93768286, 2.07304742, 2.00819644, 1.31368356],\n",
              "        [2.00203206, 1.92272143, 2.05283645, 1.9948957 , 1.74483293],\n",
              "        [1.98212682, 1.90576514, 2.01044522, 1.96604331, 2.20251191]],\n",
              "\n",
              "       ...,\n",
              "\n",
              "       [[4.72056314, 4.60860781, 4.8029804 , 4.74068095, 1.15980426],\n",
              "        [4.67711514, 4.57498448, 4.76566783, 4.70589439, 1.14272717],\n",
              "        [4.67206305, 4.59992021, 4.74701154, 4.72328767, 1.13393001],\n",
              "        [4.66296928, 4.55246254, 4.748048  , 4.69054738, 1.1682898 ],\n",
              "        [4.62457338, 4.50915418, 4.62678214, 4.58004888, 1.25983915]],\n",
              "\n",
              "       [[4.67711514, 4.57498448, 4.76566783, 4.70589439, 1.14272717],\n",
              "        [4.67206305, 4.59992021, 4.74701154, 4.72328767, 1.13393001],\n",
              "        [4.66296928, 4.55246254, 4.748048  , 4.69054738, 1.1682898 ],\n",
              "        [4.62457338, 4.50915418, 4.62678214, 4.58004888, 1.25983915],\n",
              "        [4.42046883, 4.30368384, 4.39254209, 4.31812653, 1.59542362]],\n",
              "\n",
              "       [[4.67206305, 4.59992021, 4.74701154, 4.72328767, 1.13393001],\n",
              "        [4.66296928, 4.55246254, 4.748048  , 4.69054738, 1.1682898 ],\n",
              "        [4.62457338, 4.50915418, 4.62678214, 4.58004888, 1.25983915],\n",
              "        [4.42046883, 4.30368384, 4.39254209, 4.31812653, 1.59542362],\n",
              "        [4.24061433, 4.27874812, 4.35522952, 4.28538623, 1.34644695]]])"
            ]
          },
          "metadata": {
            "tags": []
          },
          "execution_count": 65
        }
      ]
    },
    {
      "cell_type": "code",
      "metadata": {
        "id": "Umh9eolAObd-"
      },
      "source": [
        "model = Model(inputs=input_train, outputs=out)\r\n",
        "y_predicted=model.predict(X_test)"
      ],
      "execution_count": null,
      "outputs": []
    },
    {
      "cell_type": "code",
      "metadata": {
        "id": "M4ZMZMJD0rC5"
      },
      "source": [
        "# Y_actuals.shape"
      ],
      "execution_count": null,
      "outputs": []
    },
    {
      "cell_type": "code",
      "metadata": {
        "colab": {
          "base_uri": "https://localhost:8080/"
        },
        "id": "X7heaZXNOf7C",
        "outputId": "b91c3dc3-62b6-4f26-fc52-4ddd90c408db"
      },
      "source": [
        "y_predicted.shape\r\n",
        "# print(y_predicted)"
      ],
      "execution_count": null,
      "outputs": [
        {
          "output_type": "execute_result",
          "data": {
            "text/plain": [
              "(996, 3, 1)"
            ]
          },
          "metadata": {
            "tags": []
          },
          "execution_count": 70
        }
      ]
    },
    {
      "cell_type": "code",
      "metadata": {
        "id": "hHeoLaSnOiir"
      },
      "source": [
        "y_predicted=y_predicted.reshape((996,3))"
      ],
      "execution_count": null,
      "outputs": []
    },
    {
      "cell_type": "markdown",
      "metadata": {
        "id": "PEBZuUNVO09l"
      },
      "source": [
        "**Graph Visualization of predictions**"
      ]
    },
    {
      "cell_type": "code",
      "metadata": {
        "colab": {
          "base_uri": "https://localhost:8080/",
          "height": 419
        },
        "id": "y0b-Vjj3OyOE",
        "outputId": "93ceff90-1761-41dc-f746-782182875856"
      },
      "source": [
        "predd=pd.DataFrame(y_predicted, columns=['1','2','3'])\r\n",
        "predd"
      ],
      "execution_count": null,
      "outputs": [
        {
          "output_type": "execute_result",
          "data": {
            "text/html": [
              "<div>\n",
              "<style scoped>\n",
              "    .dataframe tbody tr th:only-of-type {\n",
              "        vertical-align: middle;\n",
              "    }\n",
              "\n",
              "    .dataframe tbody tr th {\n",
              "        vertical-align: top;\n",
              "    }\n",
              "\n",
              "    .dataframe thead th {\n",
              "        text-align: right;\n",
              "    }\n",
              "</style>\n",
              "<table border=\"1\" class=\"dataframe\">\n",
              "  <thead>\n",
              "    <tr style=\"text-align: right;\">\n",
              "      <th></th>\n",
              "      <th>1</th>\n",
              "      <th>2</th>\n",
              "      <th>3</th>\n",
              "    </tr>\n",
              "  </thead>\n",
              "  <tbody>\n",
              "    <tr>\n",
              "      <th>0</th>\n",
              "      <td>1.700595</td>\n",
              "      <td>1.703955</td>\n",
              "      <td>1.716637</td>\n",
              "    </tr>\n",
              "    <tr>\n",
              "      <th>1</th>\n",
              "      <td>1.704570</td>\n",
              "      <td>1.707823</td>\n",
              "      <td>1.720817</td>\n",
              "    </tr>\n",
              "    <tr>\n",
              "      <th>2</th>\n",
              "      <td>1.693906</td>\n",
              "      <td>1.698044</td>\n",
              "      <td>1.711714</td>\n",
              "    </tr>\n",
              "    <tr>\n",
              "      <th>3</th>\n",
              "      <td>1.677366</td>\n",
              "      <td>1.683507</td>\n",
              "      <td>1.697771</td>\n",
              "    </tr>\n",
              "    <tr>\n",
              "      <th>4</th>\n",
              "      <td>1.664087</td>\n",
              "      <td>1.670877</td>\n",
              "      <td>1.685141</td>\n",
              "    </tr>\n",
              "    <tr>\n",
              "      <th>...</th>\n",
              "      <td>...</td>\n",
              "      <td>...</td>\n",
              "      <td>...</td>\n",
              "    </tr>\n",
              "    <tr>\n",
              "      <th>991</th>\n",
              "      <td>3.688644</td>\n",
              "      <td>3.662012</td>\n",
              "      <td>3.686068</td>\n",
              "    </tr>\n",
              "    <tr>\n",
              "      <th>992</th>\n",
              "      <td>3.680649</td>\n",
              "      <td>3.653841</td>\n",
              "      <td>3.677417</td>\n",
              "    </tr>\n",
              "    <tr>\n",
              "      <th>993</th>\n",
              "      <td>3.644877</td>\n",
              "      <td>3.618350</td>\n",
              "      <td>3.639438</td>\n",
              "    </tr>\n",
              "    <tr>\n",
              "      <th>994</th>\n",
              "      <td>3.541864</td>\n",
              "      <td>3.514269</td>\n",
              "      <td>3.521880</td>\n",
              "    </tr>\n",
              "    <tr>\n",
              "      <th>995</th>\n",
              "      <td>3.460560</td>\n",
              "      <td>3.431905</td>\n",
              "      <td>3.437049</td>\n",
              "    </tr>\n",
              "  </tbody>\n",
              "</table>\n",
              "<p>996 rows × 3 columns</p>\n",
              "</div>"
            ],
            "text/plain": [
              "            1         2         3\n",
              "0    1.700595  1.703955  1.716637\n",
              "1    1.704570  1.707823  1.720817\n",
              "2    1.693906  1.698044  1.711714\n",
              "3    1.677366  1.683507  1.697771\n",
              "4    1.664087  1.670877  1.685141\n",
              "..        ...       ...       ...\n",
              "991  3.688644  3.662012  3.686068\n",
              "992  3.680649  3.653841  3.677417\n",
              "993  3.644877  3.618350  3.639438\n",
              "994  3.541864  3.514269  3.521880\n",
              "995  3.460560  3.431905  3.437049\n",
              "\n",
              "[996 rows x 3 columns]"
            ]
          },
          "metadata": {
            "tags": []
          },
          "execution_count": 72
        }
      ]
    },
    {
      "cell_type": "code",
      "metadata": {
        "colab": {
          "base_uri": "https://localhost:8080/",
          "height": 419
        },
        "id": "V6MhVCtHO6Oi",
        "outputId": "ec13cc2e-9d44-4a1d-eacc-92c4884803d7"
      },
      "source": [
        "predd=predd.drop([0])\r\n",
        "predd=predd.reset_index(drop=True)\r\n",
        "predd"
      ],
      "execution_count": null,
      "outputs": [
        {
          "output_type": "execute_result",
          "data": {
            "text/html": [
              "<div>\n",
              "<style scoped>\n",
              "    .dataframe tbody tr th:only-of-type {\n",
              "        vertical-align: middle;\n",
              "    }\n",
              "\n",
              "    .dataframe tbody tr th {\n",
              "        vertical-align: top;\n",
              "    }\n",
              "\n",
              "    .dataframe thead th {\n",
              "        text-align: right;\n",
              "    }\n",
              "</style>\n",
              "<table border=\"1\" class=\"dataframe\">\n",
              "  <thead>\n",
              "    <tr style=\"text-align: right;\">\n",
              "      <th></th>\n",
              "      <th>1</th>\n",
              "      <th>2</th>\n",
              "      <th>3</th>\n",
              "    </tr>\n",
              "  </thead>\n",
              "  <tbody>\n",
              "    <tr>\n",
              "      <th>0</th>\n",
              "      <td>1.704570</td>\n",
              "      <td>1.707823</td>\n",
              "      <td>1.720817</td>\n",
              "    </tr>\n",
              "    <tr>\n",
              "      <th>1</th>\n",
              "      <td>1.693906</td>\n",
              "      <td>1.698044</td>\n",
              "      <td>1.711714</td>\n",
              "    </tr>\n",
              "    <tr>\n",
              "      <th>2</th>\n",
              "      <td>1.677366</td>\n",
              "      <td>1.683507</td>\n",
              "      <td>1.697771</td>\n",
              "    </tr>\n",
              "    <tr>\n",
              "      <th>3</th>\n",
              "      <td>1.664087</td>\n",
              "      <td>1.670877</td>\n",
              "      <td>1.685141</td>\n",
              "    </tr>\n",
              "    <tr>\n",
              "      <th>4</th>\n",
              "      <td>1.663000</td>\n",
              "      <td>1.668673</td>\n",
              "      <td>1.682436</td>\n",
              "    </tr>\n",
              "    <tr>\n",
              "      <th>...</th>\n",
              "      <td>...</td>\n",
              "      <td>...</td>\n",
              "      <td>...</td>\n",
              "    </tr>\n",
              "    <tr>\n",
              "      <th>990</th>\n",
              "      <td>3.688644</td>\n",
              "      <td>3.662012</td>\n",
              "      <td>3.686068</td>\n",
              "    </tr>\n",
              "    <tr>\n",
              "      <th>991</th>\n",
              "      <td>3.680649</td>\n",
              "      <td>3.653841</td>\n",
              "      <td>3.677417</td>\n",
              "    </tr>\n",
              "    <tr>\n",
              "      <th>992</th>\n",
              "      <td>3.644877</td>\n",
              "      <td>3.618350</td>\n",
              "      <td>3.639438</td>\n",
              "    </tr>\n",
              "    <tr>\n",
              "      <th>993</th>\n",
              "      <td>3.541864</td>\n",
              "      <td>3.514269</td>\n",
              "      <td>3.521880</td>\n",
              "    </tr>\n",
              "    <tr>\n",
              "      <th>994</th>\n",
              "      <td>3.460560</td>\n",
              "      <td>3.431905</td>\n",
              "      <td>3.437049</td>\n",
              "    </tr>\n",
              "  </tbody>\n",
              "</table>\n",
              "<p>995 rows × 3 columns</p>\n",
              "</div>"
            ],
            "text/plain": [
              "            1         2         3\n",
              "0    1.704570  1.707823  1.720817\n",
              "1    1.693906  1.698044  1.711714\n",
              "2    1.677366  1.683507  1.697771\n",
              "3    1.664087  1.670877  1.685141\n",
              "4    1.663000  1.668673  1.682436\n",
              "..        ...       ...       ...\n",
              "990  3.688644  3.662012  3.686068\n",
              "991  3.680649  3.653841  3.677417\n",
              "992  3.644877  3.618350  3.639438\n",
              "993  3.541864  3.514269  3.521880\n",
              "994  3.460560  3.431905  3.437049\n",
              "\n",
              "[995 rows x 3 columns]"
            ]
          },
          "metadata": {
            "tags": []
          },
          "execution_count": 73
        }
      ]
    },
    {
      "cell_type": "code",
      "metadata": {
        "id": "SrTHPuDtjSdY"
      },
      "source": [
        "predd.to_csv('3_days_prediction_encoder_decoder using LOUNG attention.csv')"
      ],
      "execution_count": null,
      "outputs": []
    },
    {
      "cell_type": "code",
      "metadata": {
        "id": "DmKekhKvvtyG"
      },
      "source": [
        "Day1=predd['1'].values\n",
        "Day2=predd['2'].values\n",
        "Day3=predd['3'].values\n"
      ],
      "execution_count": null,
      "outputs": []
    },
    {
      "cell_type": "code",
      "metadata": {
        "id": "xXG73rLqvtyG",
        "colab": {
          "base_uri": "https://localhost:8080/",
          "height": 301
        },
        "outputId": "df692b37-4fd6-4cb7-ecfa-00eb6681c3cd"
      },
      "source": [
        "plt.title('Alcoa Corp.(US) stock price prediction using Loung Attention')\n",
        "plt.xlabel('Date Index')\n",
        "plt.ylabel('Stock Price of Alcoa Corp.')\n",
        "\n",
        "plt.plot(Day3, linewidth=0.6, color='orange')\n",
        "plt.plot(Day2, linewidth=0.6, color='magenta')\n",
        "plt.plot(Day1, linewidth=0.6, color='green')\n",
        "plt.plot(Y_actuals, linewidth=0.6, color='black')\n",
        "plt.legend(['Day3', 'Day2', 'Day1', 'Actual'], loc='upper left')\n",
        "plt.savefig('three_days_prediction_using Encdec and Loung attention.png', dpi=1200)\n",
        "#plt.legend()\n",
        "plt.show()"
      ],
      "execution_count": null,
      "outputs": [
        {
          "output_type": "display_data",
          "data": {
            "image/png": "[encoded data removed]",
            "text/plain": [
              "<Figure size 432x288 with 1 Axes>"
            ]
          },
          "metadata": {
            "tags": []
          }
        }
      ]
    },
    {
      "cell_type": "markdown",
      "metadata": {
        "id": "ChIMSIw1vtyG"
      },
      "source": [
        "### rmse and r2 score"
      ]
    },
    {
      "cell_type": "code",
      "metadata": {
        "colab": {
          "base_uri": "https://localhost:8080/"
        },
        "id": "cmDeL7lFiZFo",
        "outputId": "a380264c-e712-4473-e4f4-f1e882b7b513"
      },
      "source": [
        "print(np.sqrt(np.mean(np.power((np.array(Y_actuals)-np.array(Day1)),2))))\r\n",
        "print(np.sqrt(np.mean(np.power((np.array(Y_actuals)-np.array(Day2)),2))))\r\n",
        "print(np.sqrt(np.mean(np.power((np.array(Y_actuals)-np.array(Day3)),2))))\r\n",
        "\r\n"
      ],
      "execution_count": null,
      "outputs": [
        {
          "output_type": "stream",
          "text": [
            "1.0699307800684767\n",
            "1.069945353696946\n",
            "1.065061970663352\n"
          ],
          "name": "stdout"
        }
      ]
    },
    {
      "cell_type": "code",
      "metadata": {
        "id": "NFlSr8J4vtyH"
      },
      "source": [
        " Y=Y_actuals.iloc[:995,:]\n",
        " "
      ],
      "execution_count": null,
      "outputs": []
    },
    {
      "cell_type": "code",
      "metadata": {
        "scrolled": true,
        "id": "Y1-DPKCjvtyH",
        "colab": {
          "base_uri": "https://localhost:8080/"
        },
        "outputId": "0192b543-5955-48d0-d702-43b94a39ce19"
      },
      "source": [
        "print(r2_score(Y, Day1))\n",
        "print(r2_score(Y, Day2))\n",
        "print(r2_score(Y, Day3))\n"
      ],
      "execution_count": null,
      "outputs": [
        {
          "output_type": "stream",
          "text": [
            "0.5545913457886169\n",
            "0.5334557071176745\n",
            "0.5543688475762548\n"
          ],
          "name": "stdout"
        }
      ]
    },
    {
      "cell_type": "code",
      "metadata": {
        "id": "qWjQimcgvtyH"
      },
      "source": [
        ""
      ],
      "execution_count": null,
      "outputs": []
    }
  ]
}